{
 "cells": [
  {
   "cell_type": "code",
   "execution_count": 2,
   "id": "fda7ee1b-ef8a-40a2-9515-41a4f7223923",
   "metadata": {},
   "outputs": [],
   "source": [
    "import statistics\n",
    "import numpy as np\n",
    "import pandas as pd\n",
    "import matplotlib.pyplot as plt\n",
    "import math\n",
    "import itertools"
   ]
  },
  {
   "cell_type": "markdown",
   "id": "0708e708-4678-4b96-a7a6-2b1c7c6aefdc",
   "metadata": {},
   "source": [
    "## Lost slots calculations and plots\n",
    "\n",
    "Mean lost theatre slots per day and per week"
   ]
  },
  {
   "cell_type": "code",
   "execution_count": 105,
   "id": "d85b9a59-2cd7-41d4-8b44-9cf03373a67b",
   "metadata": {},
   "outputs": [],
   "source": [
    "number_of_runs = 50\n",
    "warm_up_period = 34\n",
    "primary_pt_results = pd.read_csv('data/primary_patient_results.csv')\n",
    "revision_pt_results = pd.read_csv('data/revision_patient_results.csv')"
   ]
  },
  {
   "cell_type": "code",
   "execution_count": 32,
   "id": "61568999-a75a-4683-ba4c-ac37a2465003",
   "metadata": {
    "tags": []
   },
   "outputs": [
    {
     "data": {
      "text/html": [
       "<div>\n",
       "<style scoped>\n",
       "    .dataframe tbody tr th:only-of-type {\n",
       "        vertical-align: middle;\n",
       "    }\n",
       "\n",
       "    .dataframe tbody tr th {\n",
       "        vertical-align: top;\n",
       "    }\n",
       "\n",
       "    .dataframe thead th {\n",
       "        text-align: right;\n",
       "    }\n",
       "</style>\n",
       "<table border=\"1\" class=\"dataframe\">\n",
       "  <thead>\n",
       "    <tr style=\"text-align: right;\">\n",
       "      <th></th>\n",
       "      <th>Day</th>\n",
       "      <th>weekday</th>\n",
       "      <th>DayLostSlots</th>\n",
       "    </tr>\n",
       "  </thead>\n",
       "  <tbody>\n",
       "    <tr>\n",
       "      <th>0</th>\n",
       "      <td>0</td>\n",
       "      <td>0</td>\n",
       "      <td>0.0</td>\n",
       "    </tr>\n",
       "    <tr>\n",
       "      <th>1</th>\n",
       "      <td>1</td>\n",
       "      <td>1</td>\n",
       "      <td>0.0</td>\n",
       "    </tr>\n",
       "    <tr>\n",
       "      <th>2</th>\n",
       "      <td>2</td>\n",
       "      <td>2</td>\n",
       "      <td>0.0</td>\n",
       "    </tr>\n",
       "    <tr>\n",
       "      <th>3</th>\n",
       "      <td>3</td>\n",
       "      <td>3</td>\n",
       "      <td>7.4</td>\n",
       "    </tr>\n",
       "    <tr>\n",
       "      <th>4</th>\n",
       "      <td>4</td>\n",
       "      <td>4</td>\n",
       "      <td>33.0</td>\n",
       "    </tr>\n",
       "    <tr>\n",
       "      <th>5</th>\n",
       "      <td>5</td>\n",
       "      <td>5</td>\n",
       "      <td>0.0</td>\n",
       "    </tr>\n",
       "    <tr>\n",
       "      <th>6</th>\n",
       "      <td>6</td>\n",
       "      <td>6</td>\n",
       "      <td>0.0</td>\n",
       "    </tr>\n",
       "    <tr>\n",
       "      <th>7</th>\n",
       "      <td>7</td>\n",
       "      <td>0</td>\n",
       "      <td>0.0</td>\n",
       "    </tr>\n",
       "    <tr>\n",
       "      <th>8</th>\n",
       "      <td>8</td>\n",
       "      <td>1</td>\n",
       "      <td>1.9</td>\n",
       "    </tr>\n",
       "    <tr>\n",
       "      <th>9</th>\n",
       "      <td>9</td>\n",
       "      <td>2</td>\n",
       "      <td>22.1</td>\n",
       "    </tr>\n",
       "  </tbody>\n",
       "</table>\n",
       "</div>"
      ],
      "text/plain": [
       "   Day  weekday  DayLostSlots\n",
       "0    0        0           0.0\n",
       "1    1        1           0.0\n",
       "2    2        2           0.0\n",
       "3    3        3           7.4\n",
       "4    4        4          33.0\n",
       "5    5        5           0.0\n",
       "6    6        6           0.0\n",
       "7    7        0           0.0\n",
       "8    8        1           1.9\n",
       "9    9        2          22.1"
      ]
     },
     "execution_count": 32,
     "metadata": {},
     "output_type": "execute_result"
    }
   ],
   "source": [
    "def calc_lost_theatre_slots(primary_pt_results, revision_pt_results):\n",
    "    \"\"\"\n",
    "    Join pt dataframes into single df\n",
    "    Select columns for lost slots\n",
    "    Summarise by day across runs\n",
    "    Deal with 0-day arrivals\n",
    "    Save to csv\n",
    "    Return lost_slots_df\n",
    "    \"\"\"\n",
    "    #join dfs, select columns, group by day and weekday across runs\n",
    "    pt_results = pd.concat([primary_pt_results, revision_pt_results])\n",
    "    lost_slots_df = pt_results[[\"Day\", \"lost slots\", \"weekday\"]]\n",
    "    lost_slots_df = pd.DataFrame(lost_slots_df.groupby(['Day', 'weekday'])['lost slots'].sum().astype(int))\n",
    "    \n",
    "    #divide by number of runs\n",
    "    lost_slots_df = lost_slots_df.assign(DayLostSlots = lambda x: (x['lost slots'] / number_of_runs))\n",
    "    lost_slots_df = pd.DataFrame(lost_slots_df[\"DayLostSlots\"]).reset_index()\n",
    "    \n",
    "    \n",
    "    \n",
    "    #0-arrival days excluded from df - add to Days sequence and fill lost slots value with 0 lost slots\n",
    "    # re-index as dataframe length increasing. Fill values in columns with 0.\n",
    "    lost_slots_df = (lost_slots_df.set_index('Day')\n",
    "     .reindex(range(lost_slots_df.Day.iat[0],lost_slots_df.Day.iat[-1]+1), fill_value=0)\n",
    "     .reset_index())\n",
    "    #change 0 weekdays into correct weekday integer\n",
    "    #need days of week seq and length of total range > length of dataframe\n",
    "    shortseq = np.arange(len(range(0,7)))\n",
    "    length = math.ceil(len(lost_slots_df) / 7)\n",
    "    #create total sequence and flatten array list into list of elements\n",
    "    sequence = ([np.tile((shortseq),length)])\n",
    "    flat_seq = list(itertools.chain(*sequence))\n",
    "    #truncate to correct length and save to column\n",
    "    sequence = flat_seq[:len(lost_slots_df)]\n",
    "    lost_slots_df['weekday'] = sequence\n",
    "    lost_slots_df.to_csv('data_summaries/Lost_slots_results_per_day.csv')\n",
    "    return(pd.DataFrame(lost_slots_df))\n",
    "\n",
    "\n",
    "lost_slots_df = calc_lost_theatre_slots(primary_pt_results, revision_pt_results)\n",
    "lost_slots_df.head(10)"
   ]
  },
  {
   "cell_type": "code",
   "execution_count": 162,
   "id": "f3e8f183-deda-4641-b59b-94cfbb953740",
   "metadata": {},
   "outputs": [
    {
     "data": {
      "image/png": "[encoded data removed]",
      "text/plain": [
       "<Figure size 640x480 with 1 Axes>"
      ]
     },
     "metadata": {},
     "output_type": "display_data"
    }
   ],
   "source": [
    "\n",
    "#throughput - remove patients who arrived but didn't stay\n",
    "\n",
    "pt_results = pd.concat([primary_pt_results, revision_pt_results])\n",
    "\n",
    "\n",
    "thruput_df = pt_results[pt_results['lost slots'] == False]\n",
    "\n",
    "thruput_df = thruput_df[thruput_df[\"Day\"] > warm_up_period]\n",
    "\n",
    "thruput_df = thruput_df[[\"Day\",\"weekday\",\"surgery type\", \"depart\"]]\n",
    "\n",
    "thruput_df = pd.DataFrame(thruput_df.groupby(['Day','weekday','surgery type'])['surgery type'].count())\n",
    "\n",
    "thruput_df.rename(columns = {'surgery type':'Counts'}, inplace = True)\n",
    "thruput_df = thruput_df.reset_index()\n",
    "thruput_df = thruput_df.assign(Counts = lambda x: (x['Counts'] / number_of_runs))\n",
    "\n",
    "thruput_df = pd.DataFrame(thruput_df.groupby(['weekday','surgery type'])['Counts'].mean())\n",
    "thruput_df.head(40)\n",
    "#################################\n",
    "thruput_df = thruput_df.reset_index()\n",
    "day_map = {0: 'Mon', 1: 'Tues', 2: 'Weds', 3: 'Thurs', 4: 'Fri'}\n",
    "thruput_df['weekday'] = thruput_df['weekday'].map(day_map)\n",
    "\n",
    "\n",
    "fig, ax = plt.subplots()\n",
    "df_pivot = thruput_df.pivot(index='weekday', columns='surgery type', values='Counts').loc[day_map.values()]\n",
    "df_pivot.plot.bar(stacked=True, colormap='Blues_r', edgecolor='grey', ax=ax)\n",
    "ax.set_xlabel('Weekday')\n",
    "ax.set_ylabel('Counts')\n",
    "plt.legend(loc='center left', bbox_to_anchor=(1.0, 0.5))\n",
    "plt.show()\n",
    "\n"
   ]
  },
  {
   "cell_type": "code",
   "execution_count": null,
   "id": "be34a143-614e-4c34-92fe-d5de1ae763d2",
   "metadata": {},
   "outputs": [],
   "source": [
    "\n",
    "thruput_df = (thruput_df.set_index('Day')\n",
    "     .reindex(range(lost_slots_df.Day.iat[0],lost_slots_df.Day.iat[-1]+1), fill_value=0)\n",
    "     .reset_index())\n",
    "    #change 0 weekdays into correct weekday integer\n",
    "    #need days of week seq and length of total range > length of dataframe\n",
    "shortseq = np.arange(len(range(0,7)))\n",
    "length = math.ceil(len(lost_slots_df) / 7)\n",
    "    #create total sequence and flatten array list into list of elements\n",
    "sequence = ([np.tile((shortseq),length)])\n",
    "flat_seq = list(itertools.chain(*sequence))\n",
    "    #truncate to correct length and save to column\n",
    "sequence = flat_seq[:len(thruput_df)]\n",
    "thruput_df['weekday'] = sequence\n",
    "\n",
    "\n",
    "\n",
    "\n",
    "\n",
    "\n",
    "\n",
    "print(thruput_df.head())\n",
    "\n",
    "\n"
   ]
  },
  {
   "cell_type": "code",
   "execution_count": 28,
   "id": "c4ea0f10-94af-48b6-a244-940532f814a1",
   "metadata": {},
   "outputs": [],
   "source": [
    "# pt_results = pd.concat([primary_pt_results, revision_pt_results])\n",
    "# lost_slots_df = pt_results[[\"Day\", \"lost slots\", \"weekday\"]]\n",
    "# lost_slots_df = pd.DataFrame(lost_slots_df.groupby(['Day', 'weekday'])['lost slots'].sum().astype(int))\n",
    "# lost_slots_df = lost_slots_df.assign(DayLostSlots = lambda x: (x['lost slots'] / number_of_runs))\n",
    "# lost_slots_df = pd.DataFrame(lost_slots_df[\"DayLostSlots\"]).reset_index()\n",
    "# #0-arrival days excluded from df - add to Days sequence and fill lost slots value with 0 lost slots\n",
    "# # re-index as dataframe length increasing. Fill values in columns with 0.\n",
    "# lost_slots_df = (lost_slots_df.set_index('Day')\n",
    "#  .reindex(range(lost_slots_df.Day.iat[0],lost_slots_df.Day.iat[-1]+1), fill_value=0)\n",
    "#  .reset_index())\n",
    "# #change 0 weekdays into correct weekday integer\n",
    "# #need days of week seq and length of total range > length of dataframe\n",
    "# shortseq = np.arange(len(range(0,7)))\n",
    "# length = math.ceil(len(lost_slots_df) / 7)\n",
    "# #create total sequence and flatten array list into list of elements\n",
    "# sequence = ([np.tile((shortseq),length)])\n",
    "# flat_seq = list(itertools.chain(*sequence))\n",
    "# #truncate to correct length and save to column\n",
    "# sequence = flat_seq[:len(lost_slots_df)]\n",
    "# lost_slots_df['weekday'] = sequence\n",
    "# lost_slots_df.to_csv('data_summaries/Lost_slots_results_per_day.csv')\n",
    "   "
   ]
  },
  {
   "cell_type": "code",
   "execution_count": 29,
   "id": "d722a21f-e080-4573-985b-c21e150f8cf1",
   "metadata": {},
   "outputs": [
    {
     "data": {
      "text/html": [
       "<div>\n",
       "<style scoped>\n",
       "    .dataframe tbody tr th:only-of-type {\n",
       "        vertical-align: middle;\n",
       "    }\n",
       "\n",
       "    .dataframe tbody tr th {\n",
       "        vertical-align: top;\n",
       "    }\n",
       "\n",
       "    .dataframe thead th {\n",
       "        text-align: right;\n",
       "    }\n",
       "</style>\n",
       "<table border=\"1\" class=\"dataframe\">\n",
       "  <thead>\n",
       "    <tr style=\"text-align: right;\">\n",
       "      <th></th>\n",
       "      <th>Day</th>\n",
       "      <th>weekday</th>\n",
       "      <th>DayLostSlots</th>\n",
       "    </tr>\n",
       "  </thead>\n",
       "  <tbody>\n",
       "    <tr>\n",
       "      <th>0</th>\n",
       "      <td>0</td>\n",
       "      <td>0</td>\n",
       "      <td>0.0</td>\n",
       "    </tr>\n",
       "    <tr>\n",
       "      <th>1</th>\n",
       "      <td>1</td>\n",
       "      <td>1</td>\n",
       "      <td>0.0</td>\n",
       "    </tr>\n",
       "    <tr>\n",
       "      <th>2</th>\n",
       "      <td>2</td>\n",
       "      <td>2</td>\n",
       "      <td>0.0</td>\n",
       "    </tr>\n",
       "    <tr>\n",
       "      <th>3</th>\n",
       "      <td>3</td>\n",
       "      <td>3</td>\n",
       "      <td>7.4</td>\n",
       "    </tr>\n",
       "    <tr>\n",
       "      <th>4</th>\n",
       "      <td>4</td>\n",
       "      <td>4</td>\n",
       "      <td>33.0</td>\n",
       "    </tr>\n",
       "  </tbody>\n",
       "</table>\n",
       "</div>"
      ],
      "text/plain": [
       "   Day  weekday  DayLostSlots\n",
       "0    0        0           0.0\n",
       "1    1        1           0.0\n",
       "2    2        2           0.0\n",
       "3    3        3           7.4\n",
       "4    4        4          33.0"
      ]
     },
     "execution_count": 29,
     "metadata": {},
     "output_type": "execute_result"
    }
   ],
   "source": [
    "lost_slots_df.head()"
   ]
  },
  {
   "cell_type": "code",
   "execution_count": 33,
   "id": "81b4792e-f3cf-41ec-a1c1-c06acbe083e5",
   "metadata": {},
   "outputs": [
    {
     "data": {
      "image/png": "[encoded data removed]",
      "text/plain": [
       "<Figure size 2200x300 with 1 Axes>"
      ]
     },
     "metadata": {},
     "output_type": "display_data"
    }
   ],
   "source": [
    "def plot_lost_slots_per_day(lost_slots_df):\n",
    "    \"\"\"\n",
    "    Remove warm-up period results\n",
    "    Plot lost slots per day\n",
    "    \"\"\"\n",
    "    lost_slots_df = lost_slots_df[lost_slots_df[\"Day\"] > warm_up_period]\n",
    "    fig, ax = plt.subplots(figsize=(22,3))\n",
    "    ax.plot(lost_slots_df['DayLostSlots'])\n",
    "    ax.set_title('Lost theatre slots across model runtime (days)')\n",
    "    return(fig)\n",
    "    \n",
    "\n",
    "plot_lost_slots_per_day(lost_slots_df);"
   ]
  },
  {
   "cell_type": "code",
   "execution_count": 34,
   "id": "49d06235-ace9-4b94-bb54-d82fe1918230",
   "metadata": {},
   "outputs": [
    {
     "data": {
      "image/png": "[encoded data removed]",
      "text/plain": [
       "<Figure size 800x400 with 1 Axes>"
      ]
     },
     "metadata": {},
     "output_type": "display_data"
    }
   ],
   "source": [
    "def plot_lost_slots_per_week(lost_slots_df):\n",
    "    \"\"\"\n",
    "    Remove warm-up period results\n",
    "    Group by week\n",
    "    plot\n",
    "    \"\"\"\n",
    "    lost_slots_df = lost_slots_df[lost_slots_df[\"Day\"] > warm_up_period]    \n",
    "    lost_slots_wk_plot = lost_slots_df.groupby('weekday').mean()\n",
    "    lost_slots_wk_plot.reset_index()\n",
    "    values = lost_slots_wk_plot['DayLostSlots']\n",
    "    names = ['Monday', 'Tuesday', 'Wednesday', 'Thursday', 'Friday', 'Saturday', 'Sunday']\n",
    "    fig, ax = plt.subplots(figsize=(8,4))\n",
    "    ax.bar(names, values)\n",
    "    ax.set_title('Mean lost slots per day of week')\n",
    "    return(fig)\n",
    "\n",
    "plot_lost_slots_per_week(lost_slots_df);\n"
   ]
  },
  {
   "cell_type": "code",
   "execution_count": 35,
   "id": "03919488-a515-4e78-bebb-33b1a52d3e2b",
   "metadata": {},
   "outputs": [
    {
     "name": "stdout",
     "output_type": "stream",
     "text": [
      "59700\n"
     ]
    }
   ],
   "source": [
    "number_of_runs = 100\n",
    "\n",
    "#read in dataframes and concatenate\n",
    "primary_pt_results = pd.read_csv('data/primary_patient_results.csv')\n",
    "revision_pt_results = pd.read_csv('data/revision_patient_results.csv')\n",
    "pt_results = pd.concat([primary_pt_results, revision_pt_results])\n",
    "print(len(pt_results))"
   ]
  },
  {
   "cell_type": "code",
   "execution_count": 36,
   "id": "e3b1b127-f477-4768-8e3f-47d8d312c189",
   "metadata": {},
   "outputs": [
    {
     "data": {
      "text/html": [
       "<div>\n",
       "<style scoped>\n",
       "    .dataframe tbody tr th:only-of-type {\n",
       "        vertical-align: middle;\n",
       "    }\n",
       "\n",
       "    .dataframe tbody tr th {\n",
       "        vertical-align: top;\n",
       "    }\n",
       "\n",
       "    .dataframe thead th {\n",
       "        text-align: right;\n",
       "    }\n",
       "</style>\n",
       "<table border=\"1\" class=\"dataframe\">\n",
       "  <thead>\n",
       "    <tr style=\"text-align: right;\">\n",
       "      <th></th>\n",
       "      <th>Unnamed: 0</th>\n",
       "      <th>Day</th>\n",
       "      <th>weekday</th>\n",
       "      <th>ID</th>\n",
       "      <th>arrival time</th>\n",
       "      <th>patient class</th>\n",
       "      <th>surgery type</th>\n",
       "      <th>lost slots</th>\n",
       "      <th>queue time</th>\n",
       "      <th>los</th>\n",
       "      <th>delayed discharge</th>\n",
       "      <th>depart</th>\n",
       "    </tr>\n",
       "  </thead>\n",
       "  <tbody>\n",
       "    <tr>\n",
       "      <th>15295</th>\n",
       "      <td>301</td>\n",
       "      <td>101</td>\n",
       "      <td>3</td>\n",
       "      <td>302</td>\n",
       "      <td>101</td>\n",
       "      <td>revision</td>\n",
       "      <td>r_hip</td>\n",
       "      <td>True</td>\n",
       "      <td>0.744085</td>\n",
       "      <td>0.00000</td>\n",
       "      <td>False</td>\n",
       "      <td>101.744085</td>\n",
       "    </tr>\n",
       "    <tr>\n",
       "      <th>15296</th>\n",
       "      <td>302</td>\n",
       "      <td>102</td>\n",
       "      <td>4</td>\n",
       "      <td>303</td>\n",
       "      <td>102</td>\n",
       "      <td>revision</td>\n",
       "      <td>r_hip</td>\n",
       "      <td>False</td>\n",
       "      <td>0.753821</td>\n",
       "      <td>8.07955</td>\n",
       "      <td>False</td>\n",
       "      <td>-inf</td>\n",
       "    </tr>\n",
       "    <tr>\n",
       "      <th>15297</th>\n",
       "      <td>303</td>\n",
       "      <td>102</td>\n",
       "      <td>4</td>\n",
       "      <td>304</td>\n",
       "      <td>102</td>\n",
       "      <td>revision</td>\n",
       "      <td>r_knee</td>\n",
       "      <td>True</td>\n",
       "      <td>0.776271</td>\n",
       "      <td>0.00000</td>\n",
       "      <td>False</td>\n",
       "      <td>102.776271</td>\n",
       "    </tr>\n",
       "    <tr>\n",
       "      <th>15298</th>\n",
       "      <td>304</td>\n",
       "      <td>102</td>\n",
       "      <td>4</td>\n",
       "      <td>305</td>\n",
       "      <td>102</td>\n",
       "      <td>revision</td>\n",
       "      <td>r_hip</td>\n",
       "      <td>True</td>\n",
       "      <td>0.915446</td>\n",
       "      <td>0.00000</td>\n",
       "      <td>False</td>\n",
       "      <td>102.915446</td>\n",
       "    </tr>\n",
       "    <tr>\n",
       "      <th>15299</th>\n",
       "      <td>305</td>\n",
       "      <td>102</td>\n",
       "      <td>4</td>\n",
       "      <td>306</td>\n",
       "      <td>102</td>\n",
       "      <td>revision</td>\n",
       "      <td>r_hip</td>\n",
       "      <td>True</td>\n",
       "      <td>0.596075</td>\n",
       "      <td>0.00000</td>\n",
       "      <td>False</td>\n",
       "      <td>102.596075</td>\n",
       "    </tr>\n",
       "  </tbody>\n",
       "</table>\n",
       "</div>"
      ],
      "text/plain": [
       "       Unnamed: 0  Day  weekday   ID  arrival time patient class surgery type  \\\n",
       "15295         301  101        3  302           101      revision        r_hip   \n",
       "15296         302  102        4  303           102      revision        r_hip   \n",
       "15297         303  102        4  304           102      revision       r_knee   \n",
       "15298         304  102        4  305           102      revision        r_hip   \n",
       "15299         305  102        4  306           102      revision        r_hip   \n",
       "\n",
       "       lost slots  queue time      los  delayed discharge      depart  \n",
       "15295        True    0.744085  0.00000              False  101.744085  \n",
       "15296       False    0.753821  8.07955              False        -inf  \n",
       "15297        True    0.776271  0.00000              False  102.776271  \n",
       "15298        True    0.915446  0.00000              False  102.915446  \n",
       "15299        True    0.596075  0.00000              False  102.596075  "
      ]
     },
     "execution_count": 36,
     "metadata": {},
     "output_type": "execute_result"
    }
   ],
   "source": [
    "pt_results.tail()"
   ]
  },
  {
   "cell_type": "code",
   "execution_count": 37,
   "id": "b5b9de8e-bd03-4205-8e2c-cfdcc122b378",
   "metadata": {},
   "outputs": [
    {
     "data": {
      "text/plain": [
       "primary     44400\n",
       "revision    15300\n",
       "Name: patient class, dtype: int64"
      ]
     },
     "execution_count": 37,
     "metadata": {},
     "output_type": "execute_result"
    }
   ],
   "source": [
    "#double check\n",
    "pt_results['patient class'].value_counts()"
   ]
  },
  {
   "cell_type": "code",
   "execution_count": 38,
   "id": "0a45a109-5714-4402-9fb0-2852ec7314ad",
   "metadata": {},
   "outputs": [
    {
     "name": "stdout",
     "output_type": "stream",
     "text": [
      "75\n"
     ]
    }
   ],
   "source": [
    "#summarise lost slots by day across runs\n",
    "lost_slots_df = pt_results[[\"Day\", \"lost slots\", \"weekday\"]]\n",
    "\n",
    "lost_slots_df = pd.DataFrame(lost_slots_df.groupby(['Day', 'weekday'])['lost slots'].sum().astype(int))\n",
    "lost_slots_df = lost_slots_df.assign(DayLostSlots = lambda x: (x['lost slots'] / number_of_runs))\n",
    "\n",
    "lost_slots_df = pd.DataFrame(lost_slots_df[\"DayLostSlots\"]).reset_index()\n",
    "print(len(lost_slots_df))"
   ]
  },
  {
   "cell_type": "code",
   "execution_count": 39,
   "id": "3002be06-201a-40fe-ac74-fc3462c8b9ea",
   "metadata": {},
   "outputs": [
    {
     "data": {
      "text/html": [
       "<div>\n",
       "<style scoped>\n",
       "    .dataframe tbody tr th:only-of-type {\n",
       "        vertical-align: middle;\n",
       "    }\n",
       "\n",
       "    .dataframe tbody tr th {\n",
       "        vertical-align: top;\n",
       "    }\n",
       "\n",
       "    .dataframe thead th {\n",
       "        text-align: right;\n",
       "    }\n",
       "</style>\n",
       "<table border=\"1\" class=\"dataframe\">\n",
       "  <thead>\n",
       "    <tr style=\"text-align: right;\">\n",
       "      <th></th>\n",
       "      <th>Day</th>\n",
       "      <th>weekday</th>\n",
       "      <th>DayLostSlots</th>\n",
       "    </tr>\n",
       "  </thead>\n",
       "  <tbody>\n",
       "    <tr>\n",
       "      <th>0</th>\n",
       "      <td>0</td>\n",
       "      <td>0</td>\n",
       "      <td>0.00</td>\n",
       "    </tr>\n",
       "    <tr>\n",
       "      <th>1</th>\n",
       "      <td>1</td>\n",
       "      <td>1</td>\n",
       "      <td>0.00</td>\n",
       "    </tr>\n",
       "    <tr>\n",
       "      <th>2</th>\n",
       "      <td>2</td>\n",
       "      <td>2</td>\n",
       "      <td>0.00</td>\n",
       "    </tr>\n",
       "    <tr>\n",
       "      <th>3</th>\n",
       "      <td>3</td>\n",
       "      <td>3</td>\n",
       "      <td>0.74</td>\n",
       "    </tr>\n",
       "    <tr>\n",
       "      <th>4</th>\n",
       "      <td>4</td>\n",
       "      <td>4</td>\n",
       "      <td>3.30</td>\n",
       "    </tr>\n",
       "    <tr>\n",
       "      <th>5</th>\n",
       "      <td>7</td>\n",
       "      <td>0</td>\n",
       "      <td>0.00</td>\n",
       "    </tr>\n",
       "    <tr>\n",
       "      <th>6</th>\n",
       "      <td>8</td>\n",
       "      <td>1</td>\n",
       "      <td>0.19</td>\n",
       "    </tr>\n",
       "    <tr>\n",
       "      <th>7</th>\n",
       "      <td>9</td>\n",
       "      <td>2</td>\n",
       "      <td>2.21</td>\n",
       "    </tr>\n",
       "    <tr>\n",
       "      <th>8</th>\n",
       "      <td>10</td>\n",
       "      <td>3</td>\n",
       "      <td>2.82</td>\n",
       "    </tr>\n",
       "    <tr>\n",
       "      <th>9</th>\n",
       "      <td>11</td>\n",
       "      <td>4</td>\n",
       "      <td>3.19</td>\n",
       "    </tr>\n",
       "  </tbody>\n",
       "</table>\n",
       "</div>"
      ],
      "text/plain": [
       "   Day  weekday  DayLostSlots\n",
       "0    0        0          0.00\n",
       "1    1        1          0.00\n",
       "2    2        2          0.00\n",
       "3    3        3          0.74\n",
       "4    4        4          3.30\n",
       "5    7        0          0.00\n",
       "6    8        1          0.19\n",
       "7    9        2          2.21\n",
       "8   10        3          2.82\n",
       "9   11        4          3.19"
      ]
     },
     "execution_count": 39,
     "metadata": {},
     "output_type": "execute_result"
    }
   ],
   "source": [
    "#Day and weekdays with 0-arrivals are lost (ie 5 and 6 = sat and sun)\n",
    "lost_slots_df.head(10)"
   ]
  },
  {
   "cell_type": "code",
   "execution_count": 40,
   "id": "2cb3ec6c-1a39-4f5f-9575-ccf26bcc834a",
   "metadata": {},
   "outputs": [],
   "source": [
    "#0-arrival days excluded from df - add to Days sequence and fill lost slots value with 0 lost slots\n",
    "# use re-index as dataframe length increasing. Fill values in columns with 0.\n",
    "\n",
    "lost_slots_df = (lost_slots_df.set_index('Day')\n",
    " .reindex(range(lost_slots_df.Day.iat[0],lost_slots_df.Day.iat[-1]+1), fill_value=0)\n",
    " .reset_index())"
   ]
  },
  {
   "cell_type": "code",
   "execution_count": 41,
   "id": "f7d7c177-35aa-4f99-b348-d420f4d074a6",
   "metadata": {},
   "outputs": [],
   "source": [
    "#change 0 weekdays into correct weekday integer\n",
    "\n",
    "#need days of week seq and length of total range > length of dataframe\n",
    "shortseq = np.arange(len(range(0,7)))\n",
    "length = math.ceil(len(lost_slots_df) / 7)\n",
    "\n",
    "#create total sequence and flatten array list into list of elements\n",
    "sequence = ([np.tile((shortseq),length)])\n",
    "flat_seq = list(itertools.chain(*sequence))\n",
    "\n",
    "#truncate to correct length and save to column\n",
    "sequence = flat_seq[:len(lost_slots_df)]\n",
    "lost_slots_df['weekday'] = sequence\n"
   ]
  },
  {
   "cell_type": "code",
   "execution_count": 42,
   "id": "7c4fd7ac-5df6-4237-b230-7462d6f3b72c",
   "metadata": {},
   "outputs": [],
   "source": [
    "#save to csv - note warm-up period included in results\n",
    "\n",
    "lost_slots_df.to_csv('data_summaries/Lost_slots_results_per_day.csv')"
   ]
  },
  {
   "cell_type": "code",
   "execution_count": 43,
   "id": "5cbc3832-1410-424c-b2c9-9eee94ed1de9",
   "metadata": {
    "tags": []
   },
   "outputs": [
    {
     "data": {
      "text/plain": [
       "Text(0.5, 1.0, 'Lost theatre slots across model runtime')"
      ]
     },
     "execution_count": 43,
     "metadata": {},
     "output_type": "execute_result"
    },
    {
     "data": {
      "image/png": "[encoded data removed]",
      "text/plain": [
       "<Figure size 2200x300 with 1 Axes>"
      ]
     },
     "metadata": {},
     "output_type": "display_data"
    }
   ],
   "source": [
    "# plot per day - need to remove warm-up period\n",
    "fig = plt.figure(figsize=(22,3))\n",
    "ax = fig.add_subplot()\n",
    "\n",
    "lost_slots_plot = ax.plot(lost_slots_df['DayLostSlots'])\n",
    "ax.set_title('Lost theatre slots across model runtime')"
   ]
  },
  {
   "cell_type": "code",
   "execution_count": 44,
   "id": "a0031071-17c3-4d80-879e-9ec891644d99",
   "metadata": {},
   "outputs": [
    {
     "data": {
      "text/html": [
       "<div>\n",
       "<style scoped>\n",
       "    .dataframe tbody tr th:only-of-type {\n",
       "        vertical-align: middle;\n",
       "    }\n",
       "\n",
       "    .dataframe tbody tr th {\n",
       "        vertical-align: top;\n",
       "    }\n",
       "\n",
       "    .dataframe thead th {\n",
       "        text-align: right;\n",
       "    }\n",
       "</style>\n",
       "<table border=\"1\" class=\"dataframe\">\n",
       "  <thead>\n",
       "    <tr style=\"text-align: right;\">\n",
       "      <th></th>\n",
       "      <th>Day</th>\n",
       "      <th>DayLostSlots</th>\n",
       "    </tr>\n",
       "    <tr>\n",
       "      <th>weekday</th>\n",
       "      <th></th>\n",
       "      <th></th>\n",
       "    </tr>\n",
       "  </thead>\n",
       "  <tbody>\n",
       "    <tr>\n",
       "      <th>0</th>\n",
       "      <td>49.0</td>\n",
       "      <td>0.000000</td>\n",
       "    </tr>\n",
       "    <tr>\n",
       "      <th>1</th>\n",
       "      <td>50.0</td>\n",
       "      <td>0.284000</td>\n",
       "    </tr>\n",
       "    <tr>\n",
       "      <th>2</th>\n",
       "      <td>51.0</td>\n",
       "      <td>1.912667</td>\n",
       "    </tr>\n",
       "    <tr>\n",
       "      <th>3</th>\n",
       "      <td>52.0</td>\n",
       "      <td>2.581333</td>\n",
       "    </tr>\n",
       "    <tr>\n",
       "      <th>4</th>\n",
       "      <td>53.0</td>\n",
       "      <td>2.658000</td>\n",
       "    </tr>\n",
       "    <tr>\n",
       "      <th>5</th>\n",
       "      <td>50.5</td>\n",
       "      <td>0.000000</td>\n",
       "    </tr>\n",
       "    <tr>\n",
       "      <th>6</th>\n",
       "      <td>51.5</td>\n",
       "      <td>0.000000</td>\n",
       "    </tr>\n",
       "  </tbody>\n",
       "</table>\n",
       "</div>"
      ],
      "text/plain": [
       "          Day  DayLostSlots\n",
       "weekday                    \n",
       "0        49.0      0.000000\n",
       "1        50.0      0.284000\n",
       "2        51.0      1.912667\n",
       "3        52.0      2.581333\n",
       "4        53.0      2.658000\n",
       "5        50.5      0.000000\n",
       "6        51.5      0.000000"
      ]
     },
     "execution_count": 44,
     "metadata": {},
     "output_type": "execute_result"
    }
   ],
   "source": [
    "# plot daily summary of lost slots\n",
    "lost_slots_wk_plot = lost_slots_df.groupby('weekday').mean()\n",
    "lost_slots_wk_plot.reset_index()\n",
    "lost_slots_wk_plot"
   ]
  },
  {
   "cell_type": "code",
   "execution_count": 45,
   "id": "22c22b21-47d3-4b28-870f-04cf895e8530",
   "metadata": {},
   "outputs": [],
   "source": [
    "#lost_slots_wk_plot = lost_slots_wk_plot['DayLostSlots']#, 'DayLostSlots']]"
   ]
  },
  {
   "cell_type": "code",
   "execution_count": 46,
   "id": "9947f5d7-fdfe-4e6f-9bbd-70fc79611a22",
   "metadata": {
    "tags": []
   },
   "outputs": [
    {
     "data": {
      "text/plain": [
       "Text(0.5, 1.0, 'Lost slots per day of week')"
      ]
     },
     "execution_count": 46,
     "metadata": {},
     "output_type": "execute_result"
    },
    {
     "data": {
      "image/png": "[encoded data removed]",
      "text/plain": [
       "<Figure size 800x400 with 1 Axes>"
      ]
     },
     "metadata": {},
     "output_type": "display_data"
    }
   ],
   "source": [
    "values = lost_slots_wk_plot['DayLostSlots']\n",
    "names = ['Monday', 'Tuesday', 'Wednesday', 'Thursday', 'Friday', 'Saturday', 'Sunday']\n",
    "\n",
    "fig = plt.figure(figsize=(8,4))\n",
    "ax = fig.add_subplot()\n",
    "lost_slots_df = ax.bar(names, values)\n",
    "#m_day_wd_plot = ax.plot(m_day_results_wd['bed_utilisation'] )\n",
    "ax.set_title('Lost slots per day of week')\n",
    "#plt.savefig('Bed Utilisation example output')"
   ]
  },
  {
   "cell_type": "code",
   "execution_count": 1,
   "id": "1ac16caa-de33-45e6-8ea9-0da50ae8a35e",
   "metadata": {
    "collapsed": true,
    "jupyter": {
     "outputs_hidden": true
    },
    "tags": []
   },
   "outputs": [
    {
     "ename": "NameError",
     "evalue": "name 'Scenario' is not defined",
     "output_type": "error",
     "traceback": [
      "\u001b[0;31m---------------------------------------------------------------------------\u001b[0m",
      "\u001b[0;31mNameError\u001b[0m                                 Traceback (most recent call last)",
      "Cell \u001b[0;32mIn [1], line 2\u001b[0m\n\u001b[1;32m      1\u001b[0m scenarios \u001b[38;5;241m=\u001b[39m {}\n\u001b[0;32m----> 2\u001b[0m scenarios[\u001b[38;5;124m'\u001b[39m\u001b[38;5;124mbase\u001b[39m\u001b[38;5;124m'\u001b[39m] \u001b[38;5;241m=\u001b[39m \u001b[43mScenario\u001b[49m(schedule)\n\u001b[1;32m      4\u001b[0m \u001b[38;5;66;03m# define scenarios\u001b[39;00m\n\u001b[1;32m      5\u001b[0m scenarios[\u001b[38;5;124m'\u001b[39m\u001b[38;5;124mbeds+20\u001b[39m\u001b[38;5;124m'\u001b[39m] \u001b[38;5;241m=\u001b[39m Scenario(schedule, n_beds\u001b[38;5;241m=\u001b[39mscenarios[\u001b[38;5;124m'\u001b[39m\u001b[38;5;124mbase\u001b[39m\u001b[38;5;124m'\u001b[39m]\u001b[38;5;241m.\u001b[39mn_beds\u001b[38;5;241m+\u001b[39m\u001b[38;5;241m20\u001b[39m)\n",
      "\u001b[0;31mNameError\u001b[0m: name 'Scenario' is not defined"
     ]
    }
   ],
   "source": [
    "scenarios = {}\n",
    "scenarios['base'] = Scenario(schedule)\n",
    "    \n",
    "# define scenarios\n",
    "scenarios['beds+20'] = Scenario(schedule, n_beds=scenarios['base'].n_beds+20)\n",
    "    \n",
    "#scenarios['theatres+4'] = Scenario(n_theatres=scenarios['base'].n_theatres + 4)\n",
    "    \n",
    "reduction = 20 \n",
    "primary_hip_mean_los = scenarios['base'].primary_hip_mean_los + reduction\n",
    "revision_hip_mean_los = scenarios['base'].revision_hip_mean_los + reduction\n",
    "revision_knee_mean_los = scenarios['base'].revision_knee_mean_los + reduction\n",
    "primary_knee_mean_los = scenarios['base'].primary_knee_mean_los + reduction\n",
    "unicompart_knee_mean_los = scenarios['base'].unicompart_knee_mean_los + reduction\n",
    "scenarios[f'los+{reduction}'] = Scenario(schedule,primary_hip_mean_los=primary_hip_mean_los,\n",
    "                                            revision_hip_mean_los=revision_hip_mean_los,\n",
    "                                            revision_knee_mean_los=revision_knee_mean_los,\n",
    "                                            primary_knee_mean_los=primary_knee_mean_los,\n",
    "                                            unicompart_knee_mean_los=unicompart_knee_mean_los)\n",
    "\n",
    "    \n",
    "new_delay_prob = 0\n",
    "scenarios['Proportion_delayed'] = Scenario(schedule,prob_ward_delay = new_delay_prob)\n",
    "\n",
    "print(scenarios)"
   ]
  },
  {
   "cell_type": "code",
   "execution_count": 5,
   "id": "b3875064-068e-4f04-b3d3-1c45a0d17e86",
   "metadata": {
    "tags": []
   },
   "outputs": [
    {
     "data": {
      "text/html": [
       "<div>\n",
       "<style scoped>\n",
       "    .dataframe tbody tr th:only-of-type {\n",
       "        vertical-align: middle;\n",
       "    }\n",
       "\n",
       "    .dataframe tbody tr th {\n",
       "        vertical-align: top;\n",
       "    }\n",
       "\n",
       "    .dataframe thead th {\n",
       "        text-align: right;\n",
       "    }\n",
       "</style>\n",
       "<table border=\"1\" class=\"dataframe\">\n",
       "  <thead>\n",
       "    <tr style=\"text-align: right;\">\n",
       "      <th></th>\n",
       "      <th>Scenario</th>\n",
       "      <th>n_beds</th>\n",
       "      <th>Primary_hip_los</th>\n",
       "      <th>Primary_knee_los</th>\n",
       "      <th>Revision_hip_los</th>\n",
       "      <th>Revision_knee_los</th>\n",
       "      <th>Unicompart_knee_los</th>\n",
       "      <th>Delay_mean</th>\n",
       "      <th>Delay_prop</th>\n",
       "    </tr>\n",
       "  </thead>\n",
       "  <tbody>\n",
       "    <tr>\n",
       "      <th>0</th>\n",
       "      <td>s1</td>\n",
       "      <td>1</td>\n",
       "      <td>2</td>\n",
       "      <td>3</td>\n",
       "      <td>1</td>\n",
       "      <td>3</td>\n",
       "      <td>1</td>\n",
       "      <td>6</td>\n",
       "      <td>0.5</td>\n",
       "    </tr>\n",
       "    <tr>\n",
       "      <th>1</th>\n",
       "      <td>s2</td>\n",
       "      <td>2</td>\n",
       "      <td>4</td>\n",
       "      <td>6</td>\n",
       "      <td>3</td>\n",
       "      <td>4</td>\n",
       "      <td>2</td>\n",
       "      <td>7</td>\n",
       "      <td>0.6</td>\n",
       "    </tr>\n",
       "    <tr>\n",
       "      <th>2</th>\n",
       "      <td>s3</td>\n",
       "      <td>4</td>\n",
       "      <td>6</td>\n",
       "      <td>9</td>\n",
       "      <td>5</td>\n",
       "      <td>5</td>\n",
       "      <td>4</td>\n",
       "      <td>8</td>\n",
       "      <td>0.7</td>\n",
       "    </tr>\n",
       "  </tbody>\n",
       "</table>\n",
       "</div>"
      ],
      "text/plain": [
       "  Scenario  n_beds  Primary_hip_los  Primary_knee_los  Revision_hip_los  \\\n",
       "0       s1       1                2                 3                 1   \n",
       "1       s2       2                4                 6                 3   \n",
       "2       s3       4                6                 9                 5   \n",
       "\n",
       "   Revision_knee_los  Unicompart_knee_los  Delay_mean  Delay_prop  \n",
       "0                  3                    1           6         0.5  \n",
       "1                  4                    2           7         0.6  \n",
       "2                  5                    4           8         0.7  "
      ]
     },
     "execution_count": 5,
     "metadata": {},
     "output_type": "execute_result"
    }
   ],
   "source": [
    "new_scenario = pd.DataFrame({\n",
    "        'Scenario': ['s1', 's2', 's3'],\n",
    "        'n_beds': [1,2,4],\n",
    "        'Primary_hip_los': [2,4,6],\n",
    "        'Primary_knee_los': [3,6,9],\n",
    "        'Revision_hip_los': [1,3,5],\n",
    "        'Revision_knee_los': [3,4,5],\n",
    "        'Unicompart_knee_los': [1,2,4],\n",
    "        'Delay_mean': [6,7,8],\n",
    "        'Delay_prop': [0.5,0.6,0.7]\n",
    "    })\n",
    "\n",
    "new_scenario"
   ]
  },
  {
   "cell_type": "code",
   "execution_count": 29,
   "id": "b0ad98f0-3b59-41a7-8062-443febced93b",
   "metadata": {
    "tags": []
   },
   "outputs": [
    {
     "data": {
      "text/plain": [
       "{'s1': [{'n_beds': 1},\n",
       "  {'Primary_hip_los': 2},\n",
       "  {'Primary_knee_los': 3},\n",
       "  {'Revision_hip_los': 1},\n",
       "  {'Revision_knee_los': 3},\n",
       "  {'Unicompart_knee_los': 1},\n",
       "  {'Delay_mean': 6},\n",
       "  {'Delay_prop': 0.5}],\n",
       " 's2': [{'n_beds': 2},\n",
       "  {'Primary_hip_los': 4},\n",
       "  {'Primary_knee_los': 6},\n",
       "  {'Revision_hip_los': 3},\n",
       "  {'Revision_knee_los': 4},\n",
       "  {'Unicompart_knee_los': 2},\n",
       "  {'Delay_mean': 7},\n",
       "  {'Delay_prop': 0.6}],\n",
       " 's3': [{'n_beds': 4},\n",
       "  {'Primary_hip_los': 6},\n",
       "  {'Primary_knee_los': 9},\n",
       "  {'Revision_hip_los': 5},\n",
       "  {'Revision_knee_los': 5},\n",
       "  {'Unicompart_knee_los': 4},\n",
       "  {'Delay_mean': 8},\n",
       "  {'Delay_prop': 0.7}]}"
      ]
     },
     "execution_count": 29,
     "metadata": {},
     "output_type": "execute_result"
    }
   ],
   "source": [
    "scenario_dict = {}\n",
    "for i, row in new_scenario.iterrows():\n",
    "    key = row['Scenario']\n",
    "    value = [{'n_beds': row['n_beds']},\n",
    "             {'Primary_hip_los': row['Primary_hip_los']},\n",
    "             {'Primary_knee_los': row['Primary_knee_los']},\n",
    "             {'Revision_hip_los': row['Revision_hip_los']},\n",
    "             {'Revision_knee_los': row['Revision_knee_los']},\n",
    "             {'Unicompart_knee_los': row['Unicompart_knee_los']},\n",
    "             {'Delay_mean': row['Delay_mean']},\n",
    "             {'Delay_prop': row['Delay_prop']}]\n",
    "    scenario_dict[key] = value\n",
    "\n",
    "scenario_dict"
   ]
  },
  {
   "cell_type": "code",
   "execution_count": 21,
   "id": "cdfd3153-da14-4932-80ae-540fb619776b",
   "metadata": {},
   "outputs": [
    {
     "ename": "TypeError",
     "evalue": "list indices must be integers or slices, not str",
     "output_type": "error",
     "traceback": [
      "\u001b[0;31m---------------------------------------------------------------------------\u001b[0m",
      "\u001b[0;31mTypeError\u001b[0m                                 Traceback (most recent call last)",
      "Cell \u001b[0;32mIn [21], line 5\u001b[0m\n\u001b[1;32m      2\u001b[0m     list_names \u001b[38;5;241m=\u001b[39m {}\n\u001b[1;32m      3\u001b[0m     list_names \u001b[38;5;241m=\u001b[39m [\u001b[38;5;124m'\u001b[39m\u001b[38;5;124md_n_bed\u001b[39m\u001b[38;5;124m'\u001b[39m, \u001b[38;5;124m'\u001b[39m\u001b[38;5;124md_primary_hip_los\u001b[39m\u001b[38;5;124m'\u001b[39m, \u001b[38;5;124m'\u001b[39m\u001b[38;5;124md_primary_knee_los\u001b[39m\u001b[38;5;124m'\u001b[39m, \u001b[38;5;124m'\u001b[39m\u001b[38;5;124md_revision_hip_los\u001b[39m\u001b[38;5;124m'\u001b[39m, \n\u001b[1;32m      4\u001b[0m             \u001b[38;5;124m'\u001b[39m\u001b[38;5;124md_revision_knee_los\u001b[39m\u001b[38;5;124m'\u001b[39m, \u001b[38;5;124m'\u001b[39m\u001b[38;5;124md_unicompart_knee_los\u001b[39m\u001b[38;5;124m'\u001b[39m, \u001b[38;5;124m'\u001b[39m\u001b[38;5;124md_delay_mean\u001b[39m\u001b[38;5;124m'\u001b[39m, \u001b[38;5;124m'\u001b[39m\u001b[38;5;124md_delay_prop\u001b[39m\u001b[38;5;124m'\u001b[39m]\n\u001b[0;32m----> 5\u001b[0m     \u001b[43mvalues\u001b[49m\u001b[43m[\u001b[49m\u001b[38;5;124;43m'\u001b[39;49m\u001b[38;5;124;43mScenario\u001b[39;49m\u001b[38;5;124;43m'\u001b[39;49m\u001b[43m]\u001b[49m \u001b[38;5;241m=\u001b[39m  [\u001b[38;5;124mf\u001b[39m\u001b[38;5;124m\"\u001b[39m\u001b[38;5;132;01m{\u001b[39;00mlist_name\u001b[38;5;132;01m}\u001b[39;00m\u001b[38;5;124m=\u001b[39m\u001b[38;5;132;01m{\u001b[39;00mitem\u001b[38;5;132;01m}\u001b[39;00m\u001b[38;5;124m\"\u001b[39m \u001b[38;5;28;01mfor\u001b[39;00m list_name, item \u001b[38;5;129;01min\u001b[39;00m \u001b[38;5;28mzip\u001b[39m(list_names, row)]\n\u001b[1;32m      7\u001b[0m \u001b[38;5;28mprint\u001b[39m(values)\n",
      "\u001b[0;31mTypeError\u001b[0m: list indices must be integers or slices, not str"
     ]
    }
   ],
   "source": [
    "for index, row in scenarios.iterrows():\n",
    "    list_names = {}\n",
    "    list_names = ['d_n_bed', 'd_primary_hip_los', 'd_primary_knee_los', 'd_revision_hip_los', \n",
    "            'd_revision_knee_los', 'd_unicompart_knee_los', 'd_delay_mean', 'd_delay_prop']\n",
    "    values['Scenario'] =  [f\"{list_name}={item}\" for list_name, item in zip(list_names, row)]\n",
    "\n",
    "print(values)"
   ]
  },
  {
   "cell_type": "code",
   "execution_count": null,
   "id": "a86e34e5-f636-4aca-9862-3f83f03ba46a",
   "metadata": {},
   "outputs": [],
   "source": [
    "\tfor index, row in df.iterrows():\n",
    "\t    \n",
    "\t\tscenarios['index'] = [args.n_beds='n_beds', args.primary_hip_mean_los='Primary_hip_los', args.primary_knee_mean_los='Primary_knee_los', \n",
    "\t\t\targs.revision_hip_mean_los='Revision_hip_los', args.revision_knee_mean_los='Revision_knee_los', \n",
    "\t\t\targs.unicompart_knee_mean_los='Unicompart_knee_los', args.delay_post_los_mean='Delay_mean', args.prob_ward_delay='Delay_prop']\n",
    "\t\t\t    \n",
    "\treturn(scenarios)"
   ]
  }
 ],
 "metadata": {
  "kernelspec": {
   "display_name": "Python 3 (ipykernel)",
   "language": "python",
   "name": "python3"
  },
  "language_info": {
   "codemirror_mode": {
    "name": "ipython",
    "version": 3
   },
   "file_extension": ".py",
   "mimetype": "text/x-python",
   "name": "python",
   "nbconvert_exporter": "python",
   "pygments_lexer": "ipython3",
   "version": "3.8.12"
  }
 },
 "nbformat": 4,
 "nbformat_minor": 5
}
