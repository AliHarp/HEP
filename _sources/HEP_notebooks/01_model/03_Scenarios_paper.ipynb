{
 "cells": [
  {
   "cell_type": "markdown",
   "id": "b5d11f9a-8c4d-4656-a67c-4ea23a4765bd",
   "metadata": {},
   "source": [
    "# Scenario analysis for BMJ Open paper\n",
    "\n",
    "Multiway sensitivity analyses to test the impact of varying parameters on the key performance measures (bed utilisation, lost slots, and total surgical throughput). "
   ]
  },
  {
   "cell_type": "markdown",
   "id": "cc7fe888-fd3c-4786-b35a-824166a2ad63",
   "metadata": {},
   "source": [
    "## Scenarios\n",
    "\n",
    "    for beds 30 : 80 (5):\n",
    "        for schedule (baseline : baseline+weekend):\n",
    "\n",
    "            baseline los ; baseline prop delay  \n",
    "\n",
    "            baseline los ; 0.25* prop delay  \n",
    "\n",
    "            0.25* los ; baseline prop delay  \n",
    "\n",
    "            0.25* los ; 0.25* prop delay  "
   ]
  },
  {
   "cell_type": "code",
   "execution_count": 1,
   "id": "a9eb6e9f-8867-4509-9a41-3ee98b33f721",
   "metadata": {},
   "outputs": [],
   "source": [
    "import simpy\n",
    "import numpy as np\n",
    "import pandas as pd\n",
    "import matplotlib.pyplot as plt\n",
    "import math\n",
    "import random\n",
    "import itertools\n",
    "import plotly.express as px\n",
    "import model2 as md\n",
    "import kaleido\n",
    "import plotly.io as pio"
   ]
  },
  {
   "cell_type": "markdown",
   "id": "877e3016-0059-4f20-a44e-002dbe031348",
   "metadata": {},
   "source": [
    "## Create schedule with weekend activity for scenarios"
   ]
  },
  {
   "cell_type": "code",
   "execution_count": 2,
   "id": "373ed486-6a2a-4eab-90eb-5f7207d676a4",
   "metadata": {},
   "outputs": [],
   "source": [
    "# DEFAULT_PRIMARY_DICT = {1: 'p_hip', 2: 'p_knee', 3: 'uni_knee'}\n",
    "# DEFAULT_REVISION_DICT = {1: 'r_hip', 2: 'r_knee'}\n",
    "# DEFAULT_PRIMARY_PROB = [0.51, 0.38, 0.11]\n",
    "# DEFAULT_REVISION_PROB = [0.55, 0.45]\n",
    "\n",
    "# SET_WEEKDAY = ['Monday', 'Tuesday', 'Wednesday', 'Thursday',\n",
    "#                'Friday', 'Saturday', 'Sunday']\n",
    "# SET_SESSIONS_PER_WEEKDAY = {'Monday': 3, 'Tuesday': 3, 'Wednesday': 3, 'Thursday': 3,\n",
    "#                             'Friday': 3, 'Saturday': 3, 'Sunday': 3}\n",
    "# SET_SESSIONS_PER_WEEKDAY_LIST = list(SET_SESSIONS_PER_WEEKDAY.values())\n",
    "# SET_ALLOCATION = {'Monday': ['2P_or_1R', '2P_or_1R', '1P'],\n",
    "#                   'Tuesday': ['2P_or_1R', '2P_or_1R', '1P'],\n",
    "#                   'Wednesday': ['2P_or_1R', '2P_or_1R', '1P'],\n",
    "#                   'Thursday': ['2P_or_1R', '2P_or_1R', '1P'],\n",
    "#                   'Friday': ['2P_or_1R', '2P_or_1R', '1P'],\n",
    "#                   'Saturday': ['2P_or_1R', '2P_or_1R', '1P'],\n",
    "#                   'Sunday': ['2P_or_1R', '2P_or_1R', '1P']}\n",
    "# SET_THEATRES_PER_WEEKDAY = {'Monday': 4, 'Tuesday': 4, 'Wednesday': 4, 'Thursday': 4,\n",
    "#                             'Friday': 4, 'Saturday': 4, 'Sunday': 4}\n",
    "\n",
    "# DEFAULT_RESULTS_COLLECTION_PERIOD = 70\n",
    "# DEFAULT_WARM_UP_PERIOD = 35\n",
    "# DEFAULT_NUMBER_OF_RUNS = 50\n",
    "\n",
    "# class Schedule:\n",
    "        \n",
    "#     \"\"\"\n",
    "#     Creates theatre schedule according to rules\n",
    "#     \"\"\"\n",
    "#     def __init__(self, weekday=SET_WEEKDAY,\n",
    "#                 allocation=SET_ALLOCATION,\n",
    "#                 sessions_per_weekday=SET_SESSIONS_PER_WEEKDAY,\n",
    "#                 sessions_per_weekday_list=SET_SESSIONS_PER_WEEKDAY_LIST,\n",
    "#                 theatres_per_weekday=SET_THEATRES_PER_WEEKDAY):\n",
    "#         \"\"\"\n",
    "#         parameters used to create schedule defined in 'scenarios class'\n",
    "#         \"\"\"\n",
    "#         self.weekday=weekday\n",
    "#         self.allocation=allocation\n",
    "#         self.sessions_per_weekday=sessions_per_weekday\n",
    "#         self.sessions_per_weekday_list=sessions_per_weekday_list\n",
    "#         self.theatres_per_weekday=theatres_per_weekday\n",
    "        \n",
    "#     def create_schedule(self,weekday, sessions_per_weekday_list, allocation, theatres_per_weekday):\n",
    "#         \"\"\"\n",
    "#         Arguments needed:\n",
    "#             *weekday: a list of weekdays\n",
    "#             *sessions_per_weekday: a list of integers representing the number of sessions per weekday\n",
    "#             *allocation: a dictionary where the keys are the weekdays and the values are lists of \n",
    "#                         allocations for each session \n",
    "#             *theatres_per_weekday: a dictionary where the keys are the weekdays and the values are \n",
    "#                         integers representing the number of theatres per weekday \n",
    "#         Returns a dictionary where the keys are the weekdays and the values are lists \n",
    "#                         of lists of allocations for each theatre for each session.\n",
    "#         \"\"\"\n",
    "#         schedule = {}\n",
    "#         for day, num_sessions in zip(weekday, sessions_per_weekday_list):\n",
    "#             schedule[day] = []\n",
    "#             for theatre in range(theatres_per_weekday[day]):\n",
    "#                 schedule[day].append([])\n",
    "#                 for session in range(num_sessions):\n",
    "#                     if allocation[day][session] == '1P':\n",
    "#                         schedule[day][theatre].append({'primary': 1})\n",
    "#                     elif allocation[day][session] == '1R':\n",
    "#                         schedule[day][theatre].append({'revision': 1})\n",
    "#                     elif allocation[day][session] == '2P':\n",
    "#                         schedule[day][theatre].append({'primary': 2})\n",
    "#                     elif allocation[day][session] == '2P_or_1R':\n",
    "#                         if random.random() > 0.5:\n",
    "#                             schedule[day][theatre].append({'primary': 2})\n",
    "#                         else:\n",
    "#                             schedule[day][theatre].append({'revision': 1})\n",
    "#         return schedule\n",
    "        \n",
    "#     def daily_counts(self,day_data):\n",
    "#         \"\"\"\n",
    "#         day_data: called in week_schedule() function, day_data is a sample weekly dictionary from create_schedule()\n",
    "#         Convert dict to a pandas DataFrame with 'primary' and 'revision' as columns \n",
    "#         and days of the week as the index, populated with the total count of 'primary' and 'revision' in each day.\n",
    "#         Returns a one week schedule\n",
    "#         \"\"\"\n",
    "#         #day_data = create_schedule(weekday, sessions_per_weekday, allocation, theatres_per_weekday)\n",
    "#         primary_slots = 0\n",
    "#         revision_slots = 0\n",
    "#         for value in day_data:\n",
    "#             if value:\n",
    "#                 for sub_value in value:\n",
    "#                     if 'primary' in sub_value:\n",
    "#                         primary_slots += sub_value['primary']\n",
    "#                     if 'revision' in sub_value:\n",
    "#                         revision_slots += sub_value['revision']\n",
    "#         return [primary_slots, revision_slots]\n",
    "\n",
    "#     def week_schedule(self):\n",
    "#         \"\"\"\n",
    "#         samples a weekly dictionary of theatres, sessions, and surgeries from create_schedule()\n",
    "#         counts daily number or primary and revision surgeries needed using daily_counts()\n",
    "#         and converts to a dataframe\n",
    "#         \"\"\"\n",
    "#         week_sched = pd.DataFrame(columns=['Primary_slots', 'Revision_slots'])\n",
    "#         day_data = self.create_schedule(self.weekday, self.sessions_per_weekday_list,\n",
    "#                                    self.allocation, self.theatres_per_weekday)\n",
    "#         for key, value in day_data.items():\n",
    "#             week_sched.loc[key] = self.daily_counts(value)\n",
    "#         week_sched = week_sched.reset_index()\n",
    "#         week_sched.rename(columns = {'index':'Day'}, inplace = True)\n",
    "#         return week_sched\n",
    "\n",
    "#     def theatre_capacity(self):\n",
    "#         length_sched = int(round(2*(DEFAULT_WARM_UP_PERIOD+DEFAULT_RESULTS_COLLECTION_PERIOD)/7, 0))\n",
    "\n",
    "#         DEFAULT_SCHEDULE_AVAIL = pd.DataFrame()\n",
    "#         for week in range(length_sched):\n",
    "#             single_random_week = self.week_schedule()\n",
    "#             DEFAULT_SCHEDULE_AVAIL = pd.concat([DEFAULT_SCHEDULE_AVAIL, single_random_week],axis=0)\n",
    "#         return DEFAULT_SCHEDULE_AVAIL.reset_index()\n",
    "\n",
    "# class Save:\n",
    "#     schedule = Schedule()\n",
    "#     def __init__(self, schedule):\n",
    "#         self.schedule = schedule\n",
    "    \n",
    "#     schedule_avail_weekend = schedule.theatre_capacity()\n",
    "#     print(schedule_avail_weekend.head(7))\n",
    "#     schedule_avail_weekend.to_csv('Test_data/schedule_seven_days.csv')\n",
    "\n",
    "new_schedule = pd.read_csv(\"Test_data/schedule_seven_days.csv\")"
   ]
  },
  {
   "cell_type": "code",
   "execution_count": 3,
   "id": "4527df40-668c-4de2-b52b-38b7eddcd31b",
   "metadata": {},
   "outputs": [],
   "source": [
    "def get_scenario_dict():\n",
    "\n",
    "    '''\n",
    "    Creates a dictionary object of scenario attributes from a dataframe\n",
    "    of defined scenarios\n",
    "   \n",
    "    Returns:\n",
    "    --------\n",
    "    dict:\n",
    "    Contains the scenario attributes for the model\n",
    "    df:\n",
    "    Contains a table of scenarios\n",
    "    '''\n",
    "    \n",
    "    #values for scenario df\n",
    "    scenario = [i for i in range(1, 37)]\n",
    "    beds_seq = [i for i in range(30, 75, 5)]*4\n",
    "    primary_hip_mean_los = [md.DEFAULT_PRIMARY_HIP_MEAN_LOS, md.DEFAULT_PRIMARY_HIP_MEAN_LOS*0.25]*18\n",
    "    primary_knee_mean_los = [md.DEFAULT_PRIMARY_KNEE_MEAN_LOS, md.DEFAULT_PRIMARY_KNEE_MEAN_LOS*0.25]*18\n",
    "    revision_hip_mean_los = [md.DEFAULT_REVISION_HIP_MEAN_LOS, md.DEFAULT_REVISION_HIP_MEAN_LOS*0.25]*18\n",
    "    revision_knee_mean_los = [md.DEFAULT_REVISION_KNEE_MEAN_LOS, md.DEFAULT_REVISION_KNEE_MEAN_LOS*0.25]*18    \n",
    "    unicompart_knee_mean_los = [md.DEFAULT_UNICOMPART_KNEE_MEAN_LOS, md.DEFAULT_UNICOMPART_KNEE_MEAN_LOS*0.25]*18\n",
    "    delay_post_los_mean = [md.DEFAULT_DELAY_POST_LOS_MEAN]*36\n",
    "    prob_ward_delay = (([md.DEFAULT_PROB_WARD_DELAY, md.DEFAULT_PROB_WARD_DELAY*0.25]*9) + \n",
    "                       ([md.DEFAULT_PROB_WARD_DELAY*0.25, md.DEFAULT_PROB_WARD_DELAY]*9))\n",
    "\n",
    "    #create df of scenarios\n",
    "    values_df = pd.DataFrame({'scenario':scenario,\n",
    "                          'n_beds': beds_seq,\n",
    "                          'primary_hip_mean_los': primary_hip_mean_los,\n",
    "                          'primary_knee_mean_los': primary_knee_mean_los,\n",
    "                          'revision_hip_mean_los': revision_hip_mean_los,\n",
    "                          'revision_knee_mean_los': revision_knee_mean_los,\n",
    "                          'unicompart_knee_mean_los' : unicompart_knee_mean_los,\n",
    "                          'delay_post_los_mean': delay_post_los_mean,\n",
    "                          'prob_ward_delay': prob_ward_delay})\n",
    "    \n",
    "    #create dict of scenarios\n",
    "    scenario_dict = {}\n",
    "    for i, row in values_df.iterrows():\n",
    "        key = row['scenario']\n",
    "        value = [{'n_beds': row['n_beds']},\n",
    "            {'primary_hip_mean_los': row['primary_hip_mean_los']},\n",
    "            {'primary_knee_mean_los': row['primary_knee_mean_los']},\n",
    "            {'revision_hip_mean_los': row['revision_hip_mean_los']},\n",
    "            {'revision_knee_mean_los': row['revision_knee_mean_los']},\n",
    "            {'unicompart_knee_mean_los' : row['unicompart_knee_mean_los']},\n",
    "            {'delay_post_los_mean': row['delay_post_los_mean']},\n",
    "            {'prob_ward_delay': row['prob_ward_delay']}]\n",
    "        scenario_dict[key] = value\n",
    "        \n",
    "    return(values_df, scenario_dict)"
   ]
  },
  {
   "cell_type": "code",
   "execution_count": 5,
   "id": "1699cd72-fd6e-48d9-b6e8-010fcb6759f7",
   "metadata": {
    "tags": []
   },
   "outputs": [
    {
     "name": "stdout",
     "output_type": "stream",
     "text": [
      "Scenario Analysis\n",
      "No. Scenario: 72\n",
      "Replications: 50\n",
      "Running 1.0 => done.\n",
      "\n",
      "Running 1.0_new_schedule => done.\n",
      "\n",
      "Running 2.0 => done.\n",
      "\n",
      "Running 2.0_new_schedule => done.\n",
      "\n",
      "Running 3.0 => done.\n",
      "\n",
      "Running 3.0_new_schedule => done.\n",
      "\n",
      "Running 4.0 => done.\n",
      "\n",
      "Running 4.0_new_schedule => done.\n",
      "\n",
      "Running 5.0 => done.\n",
      "\n",
      "Running 5.0_new_schedule => done.\n",
      "\n",
      "Running 6.0 => done.\n",
      "\n",
      "Running 6.0_new_schedule => done.\n",
      "\n",
      "Running 7.0 => done.\n",
      "\n",
      "Running 7.0_new_schedule => done.\n",
      "\n",
      "Running 8.0 => done.\n",
      "\n",
      "Running 8.0_new_schedule => done.\n",
      "\n",
      "Running 9.0 => done.\n",
      "\n",
      "Running 9.0_new_schedule => done.\n",
      "\n",
      "Running 10.0 => done.\n",
      "\n",
      "Running 10.0_new_schedule => done.\n",
      "\n",
      "Running 11.0 => done.\n",
      "\n",
      "Running 11.0_new_schedule => done.\n",
      "\n",
      "Running 12.0 => done.\n",
      "\n",
      "Running 12.0_new_schedule => done.\n",
      "\n",
      "Running 13.0 => done.\n",
      "\n",
      "Running 13.0_new_schedule => done.\n",
      "\n",
      "Running 14.0 => done.\n",
      "\n",
      "Running 14.0_new_schedule => done.\n",
      "\n",
      "Running 15.0 => done.\n",
      "\n",
      "Running 15.0_new_schedule => done.\n",
      "\n",
      "Running 16.0 => done.\n",
      "\n",
      "Running 16.0_new_schedule => done.\n",
      "\n",
      "Running 17.0 => done.\n",
      "\n",
      "Running 17.0_new_schedule => done.\n",
      "\n",
      "Running 18.0 => done.\n",
      "\n",
      "Running 18.0_new_schedule => done.\n",
      "\n",
      "Running 19.0 => done.\n",
      "\n",
      "Running 19.0_new_schedule => done.\n",
      "\n",
      "Running 20.0 => done.\n",
      "\n",
      "Running 20.0_new_schedule => done.\n",
      "\n",
      "Running 21.0 => done.\n",
      "\n",
      "Running 21.0_new_schedule => done.\n",
      "\n",
      "Running 22.0 => done.\n",
      "\n",
      "Running 22.0_new_schedule => done.\n",
      "\n",
      "Running 23.0 => done.\n",
      "\n",
      "Running 23.0_new_schedule => done.\n",
      "\n",
      "Running 24.0 => done.\n",
      "\n",
      "Running 24.0_new_schedule => done.\n",
      "\n",
      "Running 25.0 => done.\n",
      "\n",
      "Running 25.0_new_schedule => done.\n",
      "\n",
      "Running 26.0 => done.\n",
      "\n",
      "Running 26.0_new_schedule => done.\n",
      "\n",
      "Running 27.0 => done.\n",
      "\n",
      "Running 27.0_new_schedule => done.\n",
      "\n",
      "Running 28.0 => done.\n",
      "\n",
      "Running 28.0_new_schedule => done.\n",
      "\n",
      "Running 29.0 => done.\n",
      "\n",
      "Running 29.0_new_schedule => done.\n",
      "\n",
      "Running 30.0 => done.\n",
      "\n",
      "Running 30.0_new_schedule => done.\n",
      "\n",
      "Running 31.0 => done.\n",
      "\n",
      "Running 31.0_new_schedule => done.\n",
      "\n",
      "Running 32.0 => done.\n",
      "\n",
      "Running 32.0_new_schedule => done.\n",
      "\n",
      "Running 33.0 => done.\n",
      "\n",
      "Running 33.0_new_schedule => done.\n",
      "\n",
      "Running 34.0 => done.\n",
      "\n",
      "Running 34.0_new_schedule => done.\n",
      "\n",
      "Running 35.0 => done.\n",
      "\n",
      "Running 35.0_new_schedule => done.\n",
      "\n",
      "Running 36.0 => done.\n",
      "\n",
      "Running 36.0_new_schedule => done.\n",
      "\n",
      "Scenario analysis complete.\n"
     ]
    }
   ],
   "source": [
    "def get_scenarios_2k(dict_s, new_schedule):\n",
    "\n",
    "    \"\"\"\n",
    "    Create dictionary of scenario objects using attribute dictionary\n",
    "    A set of baseline schedule\n",
    "    A set of new_schedule\n",
    "    \n",
    "    Returns:\n",
    "    --------\n",
    "    dict\n",
    "    Contains the scenarios for the model\n",
    "  \n",
    "    \"\"\"\n",
    "    #schedule = md.Schedule()\n",
    "    scenarios = {}\n",
    "    schedule = md.Schedule()\n",
    "    \n",
    "    for key, value in dict_s.items():\n",
    "        attributes = {}\n",
    "        for item in value:\n",
    "            for sub_key, sub_value in item.items():\n",
    "                attributes[sub_key] = sub_value\n",
    "        #for each scenario, create a Scenario object with baseline schedule\n",
    "        scenarios[key] = md.Scenario(schedule, schedule_avail=None, **attributes)\n",
    "    \n",
    "        # for each scenario, create a Scenario object with new schedule\n",
    "        scenarios[f'{key}_new_schedule'] = md.Scenario(schedule, schedule_avail = new_schedule, **attributes)\n",
    "   \n",
    "    return scenarios\n",
    "\n",
    "\n",
    "def run_scenario_analysis_2k(scenarios, rc_period, n_reps):\n",
    "    '''\n",
    "    Run each of the scenarios for a specified results\n",
    "    collection period and replications.\n",
    "    \n",
    "    Returns:\n",
    "    a) summary results table\n",
    "    b) Results per day\n",
    "    c) Patient-level results\n",
    "       \n",
    "    Params:\n",
    "    ------\n",
    "    scenarios: dict\n",
    "        dictionary of Scenario objects\n",
    "        \n",
    "    rc_period: float\n",
    "        model run length\n",
    "        \n",
    "    n_rep: int\n",
    "        Number of replications\n",
    "    \n",
    "    '''\n",
    "    print('Scenario Analysis')\n",
    "    print(f'No. Scenario: {len(scenarios)}')\n",
    "    print(f'Replications: {n_reps}')\n",
    "\n",
    "    scenario_results_summ = {}\n",
    "    scenario_results_day = {}\n",
    "    scenario_results_ppat = {}\n",
    "    scenario_results_rpat = {}\n",
    "    \n",
    "    for sc_name, scenario in scenarios.items():\n",
    "        \n",
    "        print(f'Running {sc_name}', end=' => ')\n",
    "        \n",
    "        replications = md.multiple_reps(scenario, \n",
    "                        results_collection=md.DEFAULT_RESULTS_COLLECTION_PERIOD+md.DEFAULT_WARM_UP_PERIOD, \n",
    "                        n_reps=md.DEFAULT_NUMBER_OF_RUNS)\n",
    "        \n",
    "        replications_summ = replications[0]\n",
    "        replications_day = replications[1]\n",
    "        replications_ppat = replications[2]\n",
    "        replications_rpat = replications[3]\n",
    "        \n",
    "                    \n",
    "        print('done.\\n')\n",
    "        \n",
    "        #save the results\n",
    "        scenario_results_summ[sc_name] = replications_summ\n",
    "        scenario_results_day[sc_name] = replications_day\n",
    "        scenario_results_ppat[sc_name] = replications_ppat\n",
    "        scenario_results_rpat[sc_name] = replications_rpat\n",
    "    \n",
    "         \n",
    "    print('Scenario analysis complete.')\n",
    "    return (scenario_results_summ, scenario_results_day,scenario_results_ppat,scenario_results_rpat)\n",
    "\n",
    "#get the scenario df and dict\n",
    "sc = get_scenario_dict()\n",
    "scenario_df, scenario_dict = sc[0], sc[1]\n",
    "\n",
    "#convert to scenarios\n",
    "#new_sched = pd.read_csv('schedule_weekends.csv')\n",
    "scenarios = get_scenarios_2k(scenario_dict, new_schedule)\n",
    "\n",
    "#run the scenario analysis\n",
    "scenario_results_2k = run_scenario_analysis_2k(scenarios, \n",
    "                                         md.DEFAULT_RESULTS_COLLECTION_PERIOD+md.DEFAULT_WARM_UP_PERIOD,\n",
    "                                         n_reps= md.DEFAULT_NUMBER_OF_RUNS)#number_of_runs\n",
    "\n",
    "scenario_results_patients_2k = {key: pd.concat([scenario_results_2k[2][key], scenario_results_2k[3][key]], \n",
    "                              ignore_index=True) for key in scenario_results_2k[2].keys()}\n",
    "\n"
   ]
  },
  {
   "cell_type": "code",
   "execution_count": 8,
   "id": "10761bcd-a50a-4b04-8dea-ede530a4b7c5",
   "metadata": {},
   "outputs": [],
   "source": [
    "# save table of scenarios\n",
    "scenario_df = scenario_df.round(2)\n",
    "scenario_df.to_csv('output/scenario_df.csv')"
   ]
  },
  {
   "cell_type": "markdown",
   "id": "3a411cda-02af-4529-9daa-4edc2451d09c",
   "metadata": {},
   "source": [
    "# SAVE RESULTS\n",
    "\n",
    "* Save scenario table (72 scenarios = range of capacity *9, los *2, delays *2, schedule *2)\n"
   ]
  },
  {
   "cell_type": "markdown",
   "id": "66e6c09e-f833-40e6-8b9e-8c82371bbf08",
   "metadata": {},
   "source": [
    "## Scenario output description\n",
    "Each capacity on the x-axis\n",
    "With schedule and schedule_new in separate columns\n",
    "\n",
    "Each los and delay scenario (4) for each capacity (and sched) with:\n",
    "* mean  utilisation\n",
    "* mean total thruput\n",
    "* mean total lost slots"
   ]
  },
  {
   "cell_type": "markdown",
   "id": "5089d6ca-3481-49a7-aea5-031f562c49c0",
   "metadata": {},
   "source": [
    "## Throughput"
   ]
  },
  {
   "cell_type": "code",
   "execution_count": 29,
   "id": "81328de7-be98-4743-b98f-7c940d4681d4",
   "metadata": {
    "tags": []
   },
   "outputs": [],
   "source": [
    "# scenario_results_patients_2k: patient-level results \n",
    "\n",
    "def mean_weekly_thruput_per_procedure(scenario_results_patients_2k):\n",
    "    '''\n",
    "    Takes patient level data as inputs\n",
    "    Remove 'lost slots' so only patients with a stay are included\n",
    "    Remove warm-up period\n",
    "    Summarises by surgical type\n",
    "    \n",
    "    '''\n",
    "    columns = []\n",
    "    patient_summary = pd.DataFrame()\n",
    "\n",
    "    for sc_name, replications in scenario_results_patients_2k.items():\n",
    "\n",
    "        #for total throughput: select only those who are allocated a bed\n",
    "        replications = replications[replications['lost slots'] == False]\n",
    "        replications = replications[replications['Day'] > md.DEFAULT_WARM_UP_PERIOD]\n",
    "        replications = replications[['Day','weekday','surgery type', 'depart']]\n",
    "\n",
    "        patient_summary = pd.concat([patient_summary, replications.groupby(['Day','weekday'])\\\n",
    "                                         ['weekday'].count()],axis=1)\n",
    "\n",
    "        #patient_summary_ci = pd.concat([patient_summary, replications.groupby(['Day','weekday','surgery type'])\\\n",
    "         #                                ['surgery type'].agg('mean','count','std')],axis=1)\n",
    "        columns.append(sc_name)\n",
    "\n",
    "    patient_summary.rename(columns = {'weekday':'Counts'}, inplace = True)\n",
    "    #print(patient_summary_ci.head())\n",
    "\n",
    "    # patient_summary.rename(columns = {'surgery type':'Counts'}, inplace = True)\n",
    "    patient_summary = patient_summary.assign(Counts = lambda x: (x['Counts'] / md.DEFAULT_NUMBER_OF_RUNS)).fillna(0)\n",
    "    patient_summary.columns = columns\n",
    "    patient_summary = patient_summary.reset_index()\n",
    "    patient_summary.rename(columns = {'level_0':'Day', 'level_1':'weekday'}, inplace = True)\n",
    "    patient_summary = pd.DataFrame(patient_summary.groupby(['weekday'])[columns].mean())\n",
    "\n",
    "    return patient_summary.reset_index() \n",
    "\n",
    "# run function and save weekly surgical throughput per procedure to csv\n",
    "weekly_thru_procedure = mean_weekly_thruput_per_procedure(scenario_results_patients_2k)\n"
   ]
  },
  {
   "cell_type": "code",
   "execution_count": 10,
   "id": "5b7f19aa-ffbd-4a37-8127-26211a246b97",
   "metadata": {},
   "outputs": [],
   "source": [
    "# put in long format for plotting\n",
    "def long_data(weekly_thru_procedure, measure):\n",
    "    '''\n",
    "    Take outputs of weekly and summarise per day into long format\n",
    "    '''\n",
    "    # create df of means and remove weekday\n",
    "    means = weekly_thru_procedure.mean(axis = 0)\n",
    "    means_thru = pd.DataFrame({'Means per day': means}).iloc[1:].reset_index()\n",
    "\n",
    "    #separate schedule categories and number of beds into separate columns\n",
    "    means_thru['index'] = means_thru['index'].astype(str)\n",
    "    means_thru['Schedule '] = np.where(means_thru['index'].str.contains('_new_schedule'), \n",
    "                                       ' Baseline + weekends', ' Baseline')\n",
    "    means_thru['Beds'] = [i for i in range(30, 75, 5) for _ in range(2)] * 4\n",
    "\n",
    "    # extract scenario number\n",
    "    means_thru['index_int'] = means_thru['index'].str.extract('(\\d+)').astype(float)\n",
    "    \n",
    "    def get_new_value(idx):\n",
    "        '''\n",
    "        function to allocate scenario for los and prop delayed\n",
    "        '''\n",
    "        num = int(float(idx))\n",
    "        if num % 2 == 0:\n",
    "            los = 'low'\n",
    "        else:\n",
    "            los = 'high'\n",
    "        if num <= 18:\n",
    "            prop = 'prop_high' if num % 2 == 1 else 'prop_low'\n",
    "        else:\n",
    "            prop = 'prop_high' if num % 2 == 0 else 'prop_low'\n",
    "        return f\"{los}_los, {prop}\"\n",
    "\n",
    "    # Apply the function to the 'index' column to create a new column\n",
    "    means_thru['scenarios'] = means_thru['index_int'].apply(get_new_value)\n",
    "\n",
    "    # add a 'measure column' for plotting\n",
    "    means_thru['Measure '] = [measure]*72\n",
    "    \n",
    "    return means_thru\n"
   ]
  },
  {
   "cell_type": "code",
   "execution_count": 30,
   "id": "8f514a4e-d28b-4aff-9e71-c7e39f79fa02",
   "metadata": {},
   "outputs": [],
   "source": [
    "long_thru_data = long_data(weekly_thru_procedure, ' Throughput')\n"
   ]
  },
  {
   "cell_type": "markdown",
   "id": "4dc66db0-6ebd-4257-b28a-7c861a872643",
   "metadata": {},
   "source": [
    "## Utilisation"
   ]
  },
  {
   "cell_type": "code",
   "execution_count": 15,
   "id": "ceee4bf9-a357-4303-b51f-304c5e1846fd",
   "metadata": {
    "tags": []
   },
   "outputs": [],
   "source": [
    "def daily_utilisation(scenario_results):\n",
    "    \"\"\"\n",
    "    Weekly audit results for utilisation\n",
    "    \"\"\"\n",
    "    columns = []\n",
    "    weekly_summary = pd.DataFrame()\n",
    "\n",
    "    for sc_name, replications in scenario_results.items():\n",
    "            weekly_summary = pd.concat([weekly_summary, replications.groupby(['weekday']).apply(lambda x:x)],\n",
    "                                axis=1)\n",
    "            columns.append(sc_name)\n",
    "\n",
    "    values = weekly_summary['bed_utilisation']\n",
    "    values.columns = columns\n",
    "    \n",
    "    return values.reset_index()\n",
    "\n",
    "# run function and save to csv\n",
    "weekly_util = daily_utilisation(scenario_results_2k[1])\n"
   ]
  },
  {
   "cell_type": "code",
   "execution_count": 16,
   "id": "bd34c1ab-5a67-4a52-8981-3476316f248f",
   "metadata": {},
   "outputs": [
    {
     "data": {
      "text/html": [
       "<div>\n",
       "<style scoped>\n",
       "    .dataframe tbody tr th:only-of-type {\n",
       "        vertical-align: middle;\n",
       "    }\n",
       "\n",
       "    .dataframe tbody tr th {\n",
       "        vertical-align: top;\n",
       "    }\n",
       "\n",
       "    .dataframe thead th {\n",
       "        text-align: right;\n",
       "    }\n",
       "</style>\n",
       "<table border=\"1\" class=\"dataframe\">\n",
       "  <thead>\n",
       "    <tr style=\"text-align: right;\">\n",
       "      <th></th>\n",
       "      <th>index</th>\n",
       "      <th>Means per day</th>\n",
       "      <th>Schedule</th>\n",
       "      <th>Beds</th>\n",
       "      <th>index_int</th>\n",
       "      <th>scenarios</th>\n",
       "      <th>Measure</th>\n",
       "    </tr>\n",
       "  </thead>\n",
       "  <tbody>\n",
       "    <tr>\n",
       "      <th>0</th>\n",
       "      <td>1.0</td>\n",
       "      <td>0.904667</td>\n",
       "      <td>Baseline</td>\n",
       "      <td>30</td>\n",
       "      <td>1.0</td>\n",
       "      <td>high_los, prop_high</td>\n",
       "      <td>Utilisation</td>\n",
       "    </tr>\n",
       "    <tr>\n",
       "      <th>1</th>\n",
       "      <td>1.0_new_schedule</td>\n",
       "      <td>0.944581</td>\n",
       "      <td>Baseline + weekends</td>\n",
       "      <td>30</td>\n",
       "      <td>1.0</td>\n",
       "      <td>high_los, prop_high</td>\n",
       "      <td>Utilisation</td>\n",
       "    </tr>\n",
       "    <tr>\n",
       "      <th>2</th>\n",
       "      <td>2.0</td>\n",
       "      <td>0.368588</td>\n",
       "      <td>Baseline</td>\n",
       "      <td>35</td>\n",
       "      <td>2.0</td>\n",
       "      <td>low_los, prop_low</td>\n",
       "      <td>Utilisation</td>\n",
       "    </tr>\n",
       "    <tr>\n",
       "      <th>3</th>\n",
       "      <td>2.0_new_schedule</td>\n",
       "      <td>0.498669</td>\n",
       "      <td>Baseline + weekends</td>\n",
       "      <td>35</td>\n",
       "      <td>2.0</td>\n",
       "      <td>low_los, prop_low</td>\n",
       "      <td>Utilisation</td>\n",
       "    </tr>\n",
       "    <tr>\n",
       "      <th>4</th>\n",
       "      <td>3.0</td>\n",
       "      <td>0.895707</td>\n",
       "      <td>Baseline</td>\n",
       "      <td>40</td>\n",
       "      <td>3.0</td>\n",
       "      <td>high_los, prop_high</td>\n",
       "      <td>Utilisation</td>\n",
       "    </tr>\n",
       "    <tr>\n",
       "      <th>5</th>\n",
       "      <td>3.0_new_schedule</td>\n",
       "      <td>0.941236</td>\n",
       "      <td>Baseline + weekends</td>\n",
       "      <td>40</td>\n",
       "      <td>3.0</td>\n",
       "      <td>high_los, prop_high</td>\n",
       "      <td>Utilisation</td>\n",
       "    </tr>\n",
       "    <tr>\n",
       "      <th>6</th>\n",
       "      <td>4.0</td>\n",
       "      <td>0.284813</td>\n",
       "      <td>Baseline</td>\n",
       "      <td>45</td>\n",
       "      <td>4.0</td>\n",
       "      <td>low_los, prop_low</td>\n",
       "      <td>Utilisation</td>\n",
       "    </tr>\n",
       "  </tbody>\n",
       "</table>\n",
       "</div>"
      ],
      "text/plain": [
       "              index  Means per day             Schedule   Beds  index_int  \\\n",
       "0               1.0       0.904667              Baseline    30        1.0   \n",
       "1  1.0_new_schedule       0.944581   Baseline + weekends    30        1.0   \n",
       "2               2.0       0.368588              Baseline    35        2.0   \n",
       "3  2.0_new_schedule       0.498669   Baseline + weekends    35        2.0   \n",
       "4               3.0       0.895707              Baseline    40        3.0   \n",
       "5  3.0_new_schedule       0.941236   Baseline + weekends    40        3.0   \n",
       "6               4.0       0.284813              Baseline    45        4.0   \n",
       "\n",
       "             scenarios      Measure   \n",
       "0  high_los, prop_high   Utilisation  \n",
       "1  high_los, prop_high   Utilisation  \n",
       "2    low_los, prop_low   Utilisation  \n",
       "3    low_los, prop_low   Utilisation  \n",
       "4  high_los, prop_high   Utilisation  \n",
       "5  high_los, prop_high   Utilisation  \n",
       "6    low_los, prop_low   Utilisation  "
      ]
     },
     "execution_count": 16,
     "metadata": {},
     "output_type": "execute_result"
    }
   ],
   "source": [
    "long_util_data = long_data(weekly_util, ' Utilisation')"
   ]
  },
  {
   "cell_type": "markdown",
   "id": "33acdf25-9580-4b3b-ac9f-8573de24e15b",
   "metadata": {},
   "source": [
    "## Lost slots"
   ]
  },
  {
   "cell_type": "code",
   "execution_count": 18,
   "id": "e6e5b7bb-1491-48fa-8b82-b9d767110633",
   "metadata": {},
   "outputs": [],
   "source": [
    "\n",
    "def patient_scenarios(scenario_results):\n",
    "    \"\"\"\n",
    "    Takes patient level results for each performance measure by scenario\n",
    "    Selects lost slots, summarise across runs, \n",
    "    \"\"\"\n",
    "    columns = []\n",
    "    patient_summary = pd.DataFrame()\n",
    "\n",
    "    for sc_name, replications in scenario_results.items():\n",
    "        \n",
    "        replications = replications[replications['Day'] > md.DEFAULT_WARM_UP_PERIOD]\n",
    "        patient_summary = pd.concat([patient_summary, replications.groupby(['Day', 'weekday'])\\\n",
    "                                     ['lost slots'].sum().astype(int)],axis=1) \n",
    "        columns.append(sc_name) \n",
    "        \n",
    "    patient_summary = patient_summary.apply(lambda x: x / md.DEFAULT_NUMBER_OF_RUNS)\n",
    "    #columns = list(map('_'.join, zip(columns, patient_summary)))\n",
    "    patient_summary.columns = columns\n",
    "    patient_summary = patient_summary.reset_index()\n",
    "    patient_summary.rename(columns = {'level_0':'Day', 'level_1':'weekday'}, inplace = True)\n",
    "    \n",
    "    return(patient_summary)\n",
    "\n",
    "patient_summary = patient_scenarios(scenario_results_patients_2k)\n"
   ]
  },
  {
   "cell_type": "code",
   "execution_count": 22,
   "id": "24598423-12cc-44e1-b804-eb7c021209a8",
   "metadata": {},
   "outputs": [],
   "source": [
    "\n",
    "def lost_slots(patient_summary):\n",
    "\n",
    "    \"\"\"\n",
    "    Takes output of previous function\n",
    "    Deals with 0-day arrivals\n",
    "    plot lost slots per scenario per weekday\n",
    "    \n",
    "    \"\"\"\n",
    "    patient_summ = (patient_summary.set_index('Day')\n",
    "        .reindex(range(patient_summary.Day.iat[0],patient_summary.Day.iat[-1]+1), fill_value=0)\n",
    "        .reset_index())\n",
    "    shortseq = np.arange(len(range(0,7)))\n",
    "    length = math.ceil(len(patient_summ) / 7)\n",
    "    # create total sequence and flatten array list into list of elements\n",
    "    sequence = ([np.tile((shortseq),length)])\n",
    "    flat_seq = list(itertools.chain(*sequence))\n",
    "    # truncate to correct length and save to column\n",
    "    sequence = flat_seq[:len(patient_summ)]\n",
    "    patient_summ['weekday'] = sequence \n",
    "    patient_summ = patient_summ.fillna(0)\n",
    "    \n",
    "    #patient_summ = patient_summ[patient_summ[\"Day\"] > DEFAULT_WARM_UP_PERIOD]    \n",
    "    patient_summ = patient_summ.groupby('weekday').mean().reset_index()\n",
    "    patient_summ = patient_summ.loc[:, patient_summ.columns != 'Day']\n",
    "    #day_map = {0: 'Mon', 1: 'Tues', 2: 'Weds', 3: 'Thurs', 4: 'Fri', 5: 'Sat', 6: 'Sun'}\n",
    "    #patient_summ['weekday'] = patient_summ['weekday'].map(day_map)\n",
    "\n",
    "    return(patient_summ)\n",
    "\n",
    "lost_slots = lost_slots(patient_summary)"
   ]
  },
  {
   "cell_type": "code",
   "execution_count": 31,
   "id": "aff31113-2bc4-4d6c-a2fe-18f36fe0ef57",
   "metadata": {},
   "outputs": [],
   "source": [
    "long_lostslots_data = long_data(lost_slots, ' Lost slots')"
   ]
  },
  {
   "cell_type": "code",
   "execution_count": 27,
   "id": "1a2c39e7-98ec-4879-815b-b07c6bfe2f31",
   "metadata": {},
   "outputs": [],
   "source": [
    "means_output = pd.concat([long_thru_data, long_util_data, long_lostslots_data])\n",
    "means_output.to_csv('output/means_output.csv')"
   ]
  },
  {
   "cell_type": "code",
   "execution_count": 32,
   "id": "e489f270-bdac-4b93-a98e-4c3348995d3e",
   "metadata": {},
   "outputs": [
    {
     "data": {
      "application/vnd.plotly.v1+json": {
       "config": {
        "plotlyServerURL": "https://plot.ly"
       },
       "data": [
        {
         "alignmentgroup": "True",
         "hovertemplate": "scenarios=high_los, prop_high<br>Measure = Throughput<br>Schedule = Baseline<br>Beds=%{x}<br>Means per day=%{y}<extra></extra>",
         "legendgroup": "high_los, prop_high",
         "marker": {
          "color": "#636efa",
          "pattern": {
           "shape": ""
          }
         },
         "name": "high_los, prop_high",
         "offsetgroup": "high_los, prop_high",
         "orientation": "v",
         "showlegend": true,
         "textposition": "auto",
         "type": "bar",
         "x": [
          30,
          40,
          50,
          60,
          70,
          35,
          45,
          55,
          65
         ],
         "xaxis": "x5",
         "y": [
          5.1875873015873015,
          6.800317460317459,
          8.177873015873017,
          9.521777777777777,
          10.776984126984129,
          6.030571428571429,
          7.548984126984126,
          8.852031746031747,
          10.151809523809524
         ],
         "yaxis": "y5"
        },
        {
         "alignmentgroup": "True",
         "hovertemplate": "scenarios=high_los, prop_high<br>Measure = Throughput<br>Schedule = Baseline + weekends<br>Beds=%{x}<br>Means per day=%{y}<extra></extra>",
         "legendgroup": "high_los, prop_high",
         "marker": {
          "color": "#636efa",
          "pattern": {
           "shape": ""
          }
         },
         "name": "high_los, prop_high",
         "offsetgroup": "high_los, prop_high",
         "orientation": "v",
         "showlegend": false,
         "textposition": "auto",
         "type": "bar",
         "x": [
          30,
          40,
          50,
          60,
          70,
          35,
          45,
          55,
          65
         ],
         "xaxis": "x6",
         "y": [
          5.142,
          6.83311111111111,
          8.434984126984126,
          9.974634920634921,
          11.377999999999998,
          5.998507936507936,
          7.604285714285714,
          9.107714285714286,
          10.676888888888888
         ],
         "yaxis": "y6"
        },
        {
         "alignmentgroup": "True",
         "hovertemplate": "scenarios=high_los, prop_high<br>Measure = Utilisation<br>Schedule = Baseline<br>Beds=%{x}<br>Means per day=%{y}<extra></extra>",
         "legendgroup": "high_los, prop_high",
         "marker": {
          "color": "#636efa",
          "pattern": {
           "shape": ""
          }
         },
         "name": "high_los, prop_high",
         "offsetgroup": "high_los, prop_high",
         "orientation": "v",
         "showlegend": false,
         "textposition": "auto",
         "type": "bar",
         "x": [
          30,
          40,
          50,
          60,
          70,
          35,
          45,
          55,
          65
         ],
         "xaxis": "x3",
         "y": [
          0.9046666666666667,
          0.8957071428571429,
          0.87652,
          0.8509619047619048,
          0.824342857142857,
          0.9010857142857144,
          0.888431746031746,
          0.8669090909090909,
          0.8437538461538461
         ],
         "yaxis": "y3"
        },
        {
         "alignmentgroup": "True",
         "hovertemplate": "scenarios=high_los, prop_high<br>Measure = Utilisation<br>Schedule = Baseline + weekends<br>Beds=%{x}<br>Means per day=%{y}<extra></extra>",
         "legendgroup": "high_los, prop_high",
         "marker": {
          "color": "#636efa",
          "pattern": {
           "shape": ""
          }
         },
         "name": "high_los, prop_high",
         "offsetgroup": "high_los, prop_high",
         "orientation": "v",
         "showlegend": false,
         "textposition": "auto",
         "type": "bar",
         "x": [
          30,
          40,
          50,
          60,
          70,
          35,
          45,
          55,
          65
         ],
         "xaxis": "x4",
         "y": [
          0.9445809523809525,
          0.9412357142857143,
          0.9373885714285715,
          0.9315761904761904,
          0.9236489795918369,
          0.9428244897959184,
          0.9400571428571429,
          0.933412987012987,
          0.9274241758241759
         ],
         "yaxis": "y4"
        },
        {
         "alignmentgroup": "True",
         "hovertemplate": "scenarios=high_los, prop_high<br>Measure = Lost slots<br>Schedule = Baseline<br>Beds=%{x}<br>Means per day=%{y}<extra></extra>",
         "legendgroup": "high_los, prop_high",
         "marker": {
          "color": "#636efa",
          "pattern": {
           "shape": ""
          }
         },
         "name": "high_los, prop_high",
         "offsetgroup": "high_los, prop_high",
         "orientation": "v",
         "showlegend": false,
         "textposition": "auto",
         "type": "bar",
         "x": [
          30,
          40,
          50,
          60,
          70,
          35,
          45,
          55,
          65
         ],
         "xaxis": "x",
         "y": [
          6.163174603174603,
          4.69670634920635,
          3.227738095238095,
          1.9285714285714286,
          0.8073015873015874,
          5.378452380952381,
          3.946904761904762,
          2.539484126984127,
          1.2460317460317463
         ],
         "yaxis": "y"
        },
        {
         "alignmentgroup": "True",
         "hovertemplate": "scenarios=high_los, prop_high<br>Measure = Lost slots<br>Schedule = Baseline + weekends<br>Beds=%{x}<br>Means per day=%{y}<extra></extra>",
         "legendgroup": "high_los, prop_high",
         "marker": {
          "color": "#636efa",
          "pattern": {
           "shape": ""
          }
         },
         "name": "high_los, prop_high",
         "offsetgroup": "high_los, prop_high",
         "orientation": "v",
         "showlegend": false,
         "textposition": "auto",
         "type": "bar",
         "x": [
          30,
          40,
          50,
          60,
          70,
          35,
          45,
          55,
          65
         ],
         "xaxis": "x2",
         "y": [
          10.35531746031746,
          8.530515873015872,
          6.806468253968254,
          5.146428571428571,
          3.6282539682539685,
          9.432976190476191,
          7.699761904761906,
          6.079722222222222,
          4.385555555555556
         ],
         "yaxis": "y2"
        },
        {
         "alignmentgroup": "True",
         "hovertemplate": "scenarios=low_los, prop_low<br>Measure = Throughput<br>Schedule = Baseline<br>Beds=%{x}<br>Means per day=%{y}<extra></extra>",
         "legendgroup": "low_los, prop_low",
         "marker": {
          "color": "#EF553B",
          "pattern": {
           "shape": ""
          }
         },
         "name": "low_los, prop_low",
         "offsetgroup": "low_los, prop_low",
         "orientation": "v",
         "showlegend": true,
         "textposition": "auto",
         "type": "bar",
         "x": [
          35,
          45,
          55,
          65,
          30,
          40,
          50,
          60,
          70
         ],
         "xaxis": "x5",
         "y": [
          11.350793650793651,
          11.092063492063492,
          11.43968253968254,
          11.195238095238095,
          11.375650793650793,
          11.314285714285715,
          11.711111111111112,
          11.212698412698414,
          11.657142857142858
         ],
         "yaxis": "y5"
        },
        {
         "alignmentgroup": "True",
         "hovertemplate": "scenarios=low_los, prop_low<br>Measure = Throughput<br>Schedule = Baseline + weekends<br>Beds=%{x}<br>Means per day=%{y}<extra></extra>",
         "legendgroup": "low_los, prop_low",
         "marker": {
          "color": "#EF553B",
          "pattern": {
           "shape": ""
          }
         },
         "name": "low_los, prop_low",
         "offsetgroup": "low_los, prop_low",
         "orientation": "v",
         "showlegend": false,
         "textposition": "auto",
         "type": "bar",
         "x": [
          35,
          45,
          55,
          65,
          30,
          40,
          50,
          60,
          70
         ],
         "xaxis": "x6",
         "y": [
          14.741873015873017,
          14.75079365079365,
          14.75079365079365,
          14.75079365079365,
          14.64679365079365,
          14.75079365079365,
          14.75079365079365,
          14.75079365079365,
          14.75079365079365
         ],
         "yaxis": "y6"
        },
        {
         "alignmentgroup": "True",
         "hovertemplate": "scenarios=low_los, prop_low<br>Measure = Utilisation<br>Schedule = Baseline<br>Beds=%{x}<br>Means per day=%{y}<extra></extra>",
         "legendgroup": "low_los, prop_low",
         "marker": {
          "color": "#EF553B",
          "pattern": {
           "shape": ""
          }
         },
         "name": "low_los, prop_low",
         "offsetgroup": "low_los, prop_low",
         "orientation": "v",
         "showlegend": false,
         "textposition": "auto",
         "type": "bar",
         "x": [
          35,
          45,
          55,
          65,
          30,
          40,
          50,
          60,
          70
         ],
         "xaxis": "x3",
         "y": [
          0.3685877551020408,
          0.2848126984126984,
          0.23588571428571425,
          0.1994901098901099,
          0.4332285714285714,
          0.32680000000000003,
          0.26074285714285717,
          0.21206190476190476,
          0.1866204081632653
         ],
         "yaxis": "y3"
        },
        {
         "alignmentgroup": "True",
         "hovertemplate": "scenarios=low_los, prop_low<br>Measure = Utilisation<br>Schedule = Baseline + weekends<br>Beds=%{x}<br>Means per day=%{y}<extra></extra>",
         "legendgroup": "low_los, prop_low",
         "marker": {
          "color": "#EF553B",
          "pattern": {
           "shape": ""
          }
         },
         "name": "low_los, prop_low",
         "offsetgroup": "low_los, prop_low",
         "orientation": "v",
         "showlegend": false,
         "textposition": "auto",
         "type": "bar",
         "x": [
          35,
          45,
          55,
          65,
          30,
          40,
          50,
          60,
          70
         ],
         "xaxis": "x4",
         "y": [
          0.49866938775510206,
          0.3852190476190476,
          0.3149662337662338,
          0.26454065934065935,
          0.5782476190476191,
          0.43409285714285717,
          0.34452000000000005,
          0.29048095238095234,
          0.25
         ],
         "yaxis": "y4"
        },
        {
         "alignmentgroup": "True",
         "hovertemplate": "scenarios=low_los, prop_low<br>Measure = Lost slots<br>Schedule = Baseline<br>Beds=%{x}<br>Means per day=%{y}<extra></extra>",
         "legendgroup": "low_los, prop_low",
         "marker": {
          "color": "#EF553B",
          "pattern": {
           "shape": ""
          }
         },
         "name": "low_los, prop_low",
         "offsetgroup": "low_los, prop_low",
         "orientation": "v",
         "showlegend": false,
         "textposition": "auto",
         "type": "bar",
         "x": [
          35,
          45,
          55,
          65,
          30,
          40,
          50,
          60,
          70
         ],
         "xaxis": "x",
         "y": [
          0,
          0,
          0,
          0,
          0.0034920634920634916,
          0,
          0,
          0,
          0
         ],
         "yaxis": "y"
        },
        {
         "alignmentgroup": "True",
         "hovertemplate": "scenarios=low_los, prop_low<br>Measure = Lost slots<br>Schedule = Baseline + weekends<br>Beds=%{x}<br>Means per day=%{y}<extra></extra>",
         "legendgroup": "low_los, prop_low",
         "marker": {
          "color": "#EF553B",
          "pattern": {
           "shape": ""
          }
         },
         "name": "low_los, prop_low",
         "offsetgroup": "low_los, prop_low",
         "orientation": "v",
         "showlegend": false,
         "textposition": "auto",
         "type": "bar",
         "x": [
          35,
          45,
          55,
          65,
          30,
          40,
          50,
          60,
          70
         ],
         "xaxis": "x2",
         "y": [
          0.009523809523809523,
          0,
          0,
          0,
          0.11210317460317461,
          0,
          0,
          0,
          0
         ],
         "yaxis": "y2"
        },
        {
         "alignmentgroup": "True",
         "hovertemplate": "scenarios=high_los, prop_low<br>Measure = Throughput<br>Schedule = Baseline<br>Beds=%{x}<br>Means per day=%{y}<extra></extra>",
         "legendgroup": "high_los, prop_low",
         "marker": {
          "color": "#00cc96",
          "pattern": {
           "shape": ""
          }
         },
         "name": "high_los, prop_low",
         "offsetgroup": "high_los, prop_low",
         "orientation": "v",
         "showlegend": true,
         "textposition": "auto",
         "type": "bar",
         "x": [
          30,
          40,
          50,
          60,
          70,
          35,
          45,
          55,
          65
         ],
         "xaxis": "x5",
         "y": [
          5.806920634920636,
          7.450507936507937,
          8.856984126984127,
          10.280285714285714,
          11.234666666666667,
          6.661714285714284,
          8.302349206349207,
          9.775238095238095,
          10.96136507936508
         ],
         "yaxis": "y5"
        },
        {
         "alignmentgroup": "True",
         "hovertemplate": "scenarios=high_los, prop_low<br>Measure = Throughput<br>Schedule = Baseline + weekends<br>Beds=%{x}<br>Means per day=%{y}<extra></extra>",
         "legendgroup": "high_los, prop_low",
         "marker": {
          "color": "#00cc96",
          "pattern": {
           "shape": ""
          }
         },
         "name": "high_los, prop_low",
         "offsetgroup": "high_los, prop_low",
         "orientation": "v",
         "showlegend": false,
         "textposition": "auto",
         "type": "bar",
         "x": [
          30,
          40,
          50,
          60,
          70,
          35,
          45,
          55,
          65
         ],
         "xaxis": "x6",
         "y": [
          5.924317460317461,
          7.702126984126984,
          9.430444444444445,
          11.06622222222222,
          12.585555555555556,
          6.81526984126984,
          8.618571428571427,
          10.263174603174603,
          11.871936507936509
         ],
         "yaxis": "y6"
        },
        {
         "alignmentgroup": "True",
         "hovertemplate": "scenarios=high_los, prop_low<br>Measure = Utilisation<br>Schedule = Baseline<br>Beds=%{x}<br>Means per day=%{y}<extra></extra>",
         "legendgroup": "high_los, prop_low",
         "marker": {
          "color": "#00cc96",
          "pattern": {
           "shape": ""
          }
         },
         "name": "high_los, prop_low",
         "offsetgroup": "high_los, prop_low",
         "orientation": "v",
         "showlegend": false,
         "textposition": "auto",
         "type": "bar",
         "x": [
          30,
          40,
          50,
          60,
          70,
          35,
          45,
          55,
          65
         ],
         "xaxis": "x3",
         "y": [
          0.8933809523809524,
          0.8738071428571428,
          0.8484914285714287,
          0.8154666666666667,
          0.7593836734693877,
          0.880791836734694,
          0.8618793650793651,
          0.8383220779220779,
          0.7968747252747254
         ],
         "yaxis": "y3"
        },
        {
         "alignmentgroup": "True",
         "hovertemplate": "scenarios=high_los, prop_low<br>Measure = Utilisation<br>Schedule = Baseline + weekends<br>Beds=%{x}<br>Means per day=%{y}<extra></extra>",
         "legendgroup": "high_los, prop_low",
         "marker": {
          "color": "#00cc96",
          "pattern": {
           "shape": ""
          }
         },
         "name": "high_los, prop_low",
         "offsetgroup": "high_los, prop_low",
         "orientation": "v",
         "showlegend": false,
         "textposition": "auto",
         "type": "bar",
         "x": [
          30,
          40,
          50,
          60,
          70,
          35,
          45,
          55,
          65
         ],
         "xaxis": "x4",
         "y": [
          0.9382476190476191,
          0.9317571428571428,
          0.9255542857142858,
          0.9161714285714284,
          0.9014448979591837,
          0.9336081632653062,
          0.9291619047619049,
          0.9202701298701299,
          0.90829010989011
         ],
         "yaxis": "y4"
        },
        {
         "alignmentgroup": "True",
         "hovertemplate": "scenarios=high_los, prop_low<br>Measure = Lost slots<br>Schedule = Baseline<br>Beds=%{x}<br>Means per day=%{y}<extra></extra>",
         "legendgroup": "high_los, prop_low",
         "marker": {
          "color": "#00cc96",
          "pattern": {
           "shape": ""
          }
         },
         "name": "high_los, prop_low",
         "offsetgroup": "high_los, prop_low",
         "orientation": "v",
         "showlegend": false,
         "textposition": "auto",
         "type": "bar",
         "x": [
          30,
          40,
          50,
          60,
          70,
          35,
          45,
          55,
          65
         ],
         "xaxis": "x",
         "y": [
          5.856507936507937,
          3.9692460317460316,
          2.441904761904762,
          1.1593650793650794,
          0.22603174603174603,
          4.668809523809523,
          3.1567857142857143,
          1.7307936507936508,
          0.58
         ],
         "yaxis": "y"
        },
        {
         "alignmentgroup": "True",
         "hovertemplate": "scenarios=high_los, prop_low<br>Measure = Lost slots<br>Schedule = Baseline + weekends<br>Beds=%{x}<br>Means per day=%{y}<extra></extra>",
         "legendgroup": "high_los, prop_low",
         "marker": {
          "color": "#00cc96",
          "pattern": {
           "shape": ""
          }
         },
         "name": "high_los, prop_low",
         "offsetgroup": "high_los, prop_low",
         "orientation": "v",
         "showlegend": false,
         "textposition": "auto",
         "type": "bar",
         "x": [
          30,
          40,
          50,
          60,
          70,
          35,
          45,
          55,
          65
         ],
         "xaxis": "x2",
         "y": [
          9.513769841269843,
          7.5928571428571425,
          5.728849206349206,
          3.964523809523809,
          2.3267857142857147,
          8.552539682539683,
          6.604642857142857,
          4.8307142857142855,
          3.0993253968253964
         ],
         "yaxis": "y2"
        },
        {
         "alignmentgroup": "True",
         "hovertemplate": "scenarios=low_los, prop_high<br>Measure = Throughput<br>Schedule = Baseline<br>Beds=%{x}<br>Means per day=%{y}<extra></extra>",
         "legendgroup": "low_los, prop_high",
         "marker": {
          "color": "#ab63fa",
          "pattern": {
           "shape": ""
          }
         },
         "name": "low_los, prop_high",
         "offsetgroup": "low_los, prop_high",
         "orientation": "v",
         "showlegend": true,
         "textposition": "auto",
         "type": "bar",
         "x": [
          35,
          45,
          55,
          65,
          30,
          40,
          50,
          60,
          70
         ],
         "xaxis": "x5",
         "y": [
          11.170126984126984,
          11.355269841269841,
          11.250793650793652,
          11.312698412698413,
          10.577238095238096,
          11.443809523809524,
          11.238095238095239,
          11.412698412698413,
          11.517460317460317
         ],
         "yaxis": "y5"
        },
        {
         "alignmentgroup": "True",
         "hovertemplate": "scenarios=low_los, prop_high<br>Measure = Throughput<br>Schedule = Baseline + weekends<br>Beds=%{x}<br>Means per day=%{y}<extra></extra>",
         "legendgroup": "low_los, prop_high",
         "marker": {
          "color": "#ab63fa",
          "pattern": {
           "shape": ""
          }
         },
         "name": "low_los, prop_high",
         "offsetgroup": "low_los, prop_high",
         "orientation": "v",
         "showlegend": false,
         "textposition": "auto",
         "type": "bar",
         "x": [
          35,
          45,
          55,
          65,
          30,
          40,
          50,
          60,
          70
         ],
         "xaxis": "x6",
         "y": [
          13.134539682539682,
          14.634857142857143,
          14.74831746031746,
          14.75079365079365,
          11.718793650793653,
          14.169492063492061,
          14.738984126984127,
          14.75047619047619,
          14.75079365079365
         ],
         "yaxis": "y6"
        },
        {
         "alignmentgroup": "True",
         "hovertemplate": "scenarios=low_los, prop_high<br>Measure = Utilisation<br>Schedule = Baseline<br>Beds=%{x}<br>Means per day=%{y}<extra></extra>",
         "legendgroup": "low_los, prop_high",
         "marker": {
          "color": "#ab63fa",
          "pattern": {
           "shape": ""
          }
         },
         "name": "low_los, prop_high",
         "offsetgroup": "low_los, prop_high",
         "orientation": "v",
         "showlegend": false,
         "textposition": "auto",
         "type": "bar",
         "x": [
          35,
          45,
          55,
          65,
          30,
          40,
          50,
          60,
          70
         ],
         "xaxis": "x3",
         "y": [
          0.6454530612244898,
          0.4922412698412698,
          0.4067792207792208,
          0.3427736263736264,
          0.7200285714285714,
          0.5552142857142857,
          0.4457428571428571,
          0.3727095238095238,
          0.3213061224489796
         ],
         "yaxis": "y3"
        },
        {
         "alignmentgroup": "True",
         "hovertemplate": "scenarios=low_los, prop_high<br>Measure = Utilisation<br>Schedule = Baseline + weekends<br>Beds=%{x}<br>Means per day=%{y}<extra></extra>",
         "legendgroup": "low_los, prop_high",
         "marker": {
          "color": "#ab63fa",
          "pattern": {
           "shape": ""
          }
         },
         "name": "low_los, prop_high",
         "offsetgroup": "low_los, prop_high",
         "orientation": "v",
         "showlegend": false,
         "textposition": "auto",
         "type": "bar",
         "x": [
          35,
          45,
          55,
          65,
          30,
          40,
          50,
          60,
          70
         ],
         "xaxis": "x4",
         "y": [
          0.8152163265306123,
          0.6735555555555556,
          0.557812987012987,
          0.4588395604395604,
          0.8585238095238096,
          0.7502571428571427,
          0.5987485714285714,
          0.4986761904761905,
          0.43281224489795916
         ],
         "yaxis": "y4"
        },
        {
         "alignmentgroup": "True",
         "hovertemplate": "scenarios=low_los, prop_high<br>Measure = Lost slots<br>Schedule = Baseline<br>Beds=%{x}<br>Means per day=%{y}<extra></extra>",
         "legendgroup": "low_los, prop_high",
         "marker": {
          "color": "#ab63fa",
          "pattern": {
           "shape": ""
          }
         },
         "name": "low_los, prop_high",
         "offsetgroup": "low_los, prop_high",
         "orientation": "v",
         "showlegend": false,
         "textposition": "auto",
         "type": "bar",
         "x": [
          35,
          45,
          55,
          65,
          30,
          40,
          50,
          60,
          70
         ],
         "xaxis": "x",
         "y": [
          0.15785714285714286,
          0.00031746031746031746,
          0,
          0,
          0.6944047619047619,
          0.02011904761904762,
          0,
          0,
          0
         ],
         "yaxis": "y"
        },
        {
         "alignmentgroup": "True",
         "hovertemplate": "scenarios=low_los, prop_high<br>Measure = Lost slots<br>Schedule = Baseline + weekends<br>Beds=%{x}<br>Means per day=%{y}<extra></extra>",
         "legendgroup": "low_los, prop_high",
         "marker": {
          "color": "#ab63fa",
          "pattern": {
           "shape": ""
          }
         },
         "name": "low_los, prop_high",
         "offsetgroup": "low_los, prop_high",
         "orientation": "v",
         "showlegend": false,
         "textposition": "auto",
         "type": "bar",
         "x": [
          35,
          45,
          55,
          65,
          30,
          40,
          50,
          60,
          70
         ],
         "xaxis": "x2",
         "y": [
          1.741468253968254,
          0.12499999999999999,
          0.0025396825396825397,
          0,
          3.2609920634920635,
          0.6248412698412699,
          0.01265873015873016,
          0.00031746031746031746,
          0
         ],
         "yaxis": "y2"
        }
       ],
       "layout": {
        "annotations": [
         {
          "font": {},
          "showarrow": false,
          "text": "Schedule = Baseline",
          "x": 0.24,
          "xanchor": "center",
          "xref": "paper",
          "y": 0.9999999999999998,
          "yanchor": "bottom",
          "yref": "paper"
         },
         {
          "font": {},
          "showarrow": false,
          "text": "Schedule = Baseline + weekends",
          "x": 0.74,
          "xanchor": "center",
          "xref": "paper",
          "y": 0.9999999999999998,
          "yanchor": "bottom",
          "yref": "paper"
         },
         {
          "font": {},
          "showarrow": false,
          "text": "Measure = Lost slots",
          "textangle": 90,
          "x": 0.98,
          "xanchor": "left",
          "xref": "paper",
          "y": 0.15666666666666665,
          "yanchor": "middle",
          "yref": "paper"
         },
         {
          "font": {},
          "showarrow": false,
          "text": "Measure = Utilisation",
          "textangle": 90,
          "x": 0.98,
          "xanchor": "left",
          "xref": "paper",
          "y": 0.4999999999999999,
          "yanchor": "middle",
          "yref": "paper"
         },
         {
          "font": {},
          "showarrow": false,
          "text": "Measure = Throughput",
          "textangle": 90,
          "x": 0.98,
          "xanchor": "left",
          "xref": "paper",
          "y": 0.8433333333333332,
          "yanchor": "middle",
          "yref": "paper"
         }
        ],
        "barmode": "group",
        "height": 800,
        "legend": {
         "title": {
          "text": "scenarios"
         },
         "tracegroupgap": 0
        },
        "margin": {
         "t": 60
        },
        "template": {
         "data": {
          "bar": [
           {
            "error_x": {
             "color": "#2a3f5f"
            },
            "error_y": {
             "color": "#2a3f5f"
            },
            "marker": {
             "line": {
              "color": "#E5ECF6",
              "width": 0.5
             },
             "pattern": {
              "fillmode": "overlay",
              "size": 10,
              "solidity": 0.2
             }
            },
            "type": "bar"
           }
          ],
          "barpolar": [
           {
            "marker": {
             "line": {
              "color": "#E5ECF6",
              "width": 0.5
             },
             "pattern": {
              "fillmode": "overlay",
              "size": 10,
              "solidity": 0.2
             }
            },
            "type": "barpolar"
           }
          ],
          "carpet": [
           {
            "aaxis": {
             "endlinecolor": "#2a3f5f",
             "gridcolor": "white",
             "linecolor": "white",
             "minorgridcolor": "white",
             "startlinecolor": "#2a3f5f"
            },
            "baxis": {
             "endlinecolor": "#2a3f5f",
             "gridcolor": "white",
             "linecolor": "white",
             "minorgridcolor": "white",
             "startlinecolor": "#2a3f5f"
            },
            "type": "carpet"
           }
          ],
          "choropleth": [
           {
            "colorbar": {
             "outlinewidth": 0,
             "ticks": ""
            },
            "type": "choropleth"
           }
          ],
          "contour": [
           {
            "colorbar": {
             "outlinewidth": 0,
             "ticks": ""
            },
            "colorscale": [
             [
              0,
              "#0d0887"
             ],
             [
              0.1111111111111111,
              "#46039f"
             ],
             [
              0.2222222222222222,
              "#7201a8"
             ],
             [
              0.3333333333333333,
              "#9c179e"
             ],
             [
              0.4444444444444444,
              "#bd3786"
             ],
             [
              0.5555555555555556,
              "#d8576b"
             ],
             [
              0.6666666666666666,
              "#ed7953"
             ],
             [
              0.7777777777777778,
              "#fb9f3a"
             ],
             [
              0.8888888888888888,
              "#fdca26"
             ],
             [
              1,
              "#f0f921"
             ]
            ],
            "type": "contour"
           }
          ],
          "contourcarpet": [
           {
            "colorbar": {
             "outlinewidth": 0,
             "ticks": ""
            },
            "type": "contourcarpet"
           }
          ],
          "heatmap": [
           {
            "colorbar": {
             "outlinewidth": 0,
             "ticks": ""
            },
            "colorscale": [
             [
              0,
              "#0d0887"
             ],
             [
              0.1111111111111111,
              "#46039f"
             ],
             [
              0.2222222222222222,
              "#7201a8"
             ],
             [
              0.3333333333333333,
              "#9c179e"
             ],
             [
              0.4444444444444444,
              "#bd3786"
             ],
             [
              0.5555555555555556,
              "#d8576b"
             ],
             [
              0.6666666666666666,
              "#ed7953"
             ],
             [
              0.7777777777777778,
              "#fb9f3a"
             ],
             [
              0.8888888888888888,
              "#fdca26"
             ],
             [
              1,
              "#f0f921"
             ]
            ],
            "type": "heatmap"
           }
          ],
          "heatmapgl": [
           {
            "colorbar": {
             "outlinewidth": 0,
             "ticks": ""
            },
            "colorscale": [
             [
              0,
              "#0d0887"
             ],
             [
              0.1111111111111111,
              "#46039f"
             ],
             [
              0.2222222222222222,
              "#7201a8"
             ],
             [
              0.3333333333333333,
              "#9c179e"
             ],
             [
              0.4444444444444444,
              "#bd3786"
             ],
             [
              0.5555555555555556,
              "#d8576b"
             ],
             [
              0.6666666666666666,
              "#ed7953"
             ],
             [
              0.7777777777777778,
              "#fb9f3a"
             ],
             [
              0.8888888888888888,
              "#fdca26"
             ],
             [
              1,
              "#f0f921"
             ]
            ],
            "type": "heatmapgl"
           }
          ],
          "histogram": [
           {
            "marker": {
             "pattern": {
              "fillmode": "overlay",
              "size": 10,
              "solidity": 0.2
             }
            },
            "type": "histogram"
           }
          ],
          "histogram2d": [
           {
            "colorbar": {
             "outlinewidth": 0,
             "ticks": ""
            },
            "colorscale": [
             [
              0,
              "#0d0887"
             ],
             [
              0.1111111111111111,
              "#46039f"
             ],
             [
              0.2222222222222222,
              "#7201a8"
             ],
             [
              0.3333333333333333,
              "#9c179e"
             ],
             [
              0.4444444444444444,
              "#bd3786"
             ],
             [
              0.5555555555555556,
              "#d8576b"
             ],
             [
              0.6666666666666666,
              "#ed7953"
             ],
             [
              0.7777777777777778,
              "#fb9f3a"
             ],
             [
              0.8888888888888888,
              "#fdca26"
             ],
             [
              1,
              "#f0f921"
             ]
            ],
            "type": "histogram2d"
           }
          ],
          "histogram2dcontour": [
           {
            "colorbar": {
             "outlinewidth": 0,
             "ticks": ""
            },
            "colorscale": [
             [
              0,
              "#0d0887"
             ],
             [
              0.1111111111111111,
              "#46039f"
             ],
             [
              0.2222222222222222,
              "#7201a8"
             ],
             [
              0.3333333333333333,
              "#9c179e"
             ],
             [
              0.4444444444444444,
              "#bd3786"
             ],
             [
              0.5555555555555556,
              "#d8576b"
             ],
             [
              0.6666666666666666,
              "#ed7953"
             ],
             [
              0.7777777777777778,
              "#fb9f3a"
             ],
             [
              0.8888888888888888,
              "#fdca26"
             ],
             [
              1,
              "#f0f921"
             ]
            ],
            "type": "histogram2dcontour"
           }
          ],
          "mesh3d": [
           {
            "colorbar": {
             "outlinewidth": 0,
             "ticks": ""
            },
            "type": "mesh3d"
           }
          ],
          "parcoords": [
           {
            "line": {
             "colorbar": {
              "outlinewidth": 0,
              "ticks": ""
             }
            },
            "type": "parcoords"
           }
          ],
          "pie": [
           {
            "automargin": true,
            "type": "pie"
           }
          ],
          "scatter": [
           {
            "fillpattern": {
             "fillmode": "overlay",
             "size": 10,
             "solidity": 0.2
            },
            "type": "scatter"
           }
          ],
          "scatter3d": [
           {
            "line": {
             "colorbar": {
              "outlinewidth": 0,
              "ticks": ""
             }
            },
            "marker": {
             "colorbar": {
              "outlinewidth": 0,
              "ticks": ""
             }
            },
            "type": "scatter3d"
           }
          ],
          "scattercarpet": [
           {
            "marker": {
             "colorbar": {
              "outlinewidth": 0,
              "ticks": ""
             }
            },
            "type": "scattercarpet"
           }
          ],
          "scattergeo": [
           {
            "marker": {
             "colorbar": {
              "outlinewidth": 0,
              "ticks": ""
             }
            },
            "type": "scattergeo"
           }
          ],
          "scattergl": [
           {
            "marker": {
             "colorbar": {
              "outlinewidth": 0,
              "ticks": ""
             }
            },
            "type": "scattergl"
           }
          ],
          "scattermapbox": [
           {
            "marker": {
             "colorbar": {
              "outlinewidth": 0,
              "ticks": ""
             }
            },
            "type": "scattermapbox"
           }
          ],
          "scatterpolar": [
           {
            "marker": {
             "colorbar": {
              "outlinewidth": 0,
              "ticks": ""
             }
            },
            "type": "scatterpolar"
           }
          ],
          "scatterpolargl": [
           {
            "marker": {
             "colorbar": {
              "outlinewidth": 0,
              "ticks": ""
             }
            },
            "type": "scatterpolargl"
           }
          ],
          "scatterternary": [
           {
            "marker": {
             "colorbar": {
              "outlinewidth": 0,
              "ticks": ""
             }
            },
            "type": "scatterternary"
           }
          ],
          "surface": [
           {
            "colorbar": {
             "outlinewidth": 0,
             "ticks": ""
            },
            "colorscale": [
             [
              0,
              "#0d0887"
             ],
             [
              0.1111111111111111,
              "#46039f"
             ],
             [
              0.2222222222222222,
              "#7201a8"
             ],
             [
              0.3333333333333333,
              "#9c179e"
             ],
             [
              0.4444444444444444,
              "#bd3786"
             ],
             [
              0.5555555555555556,
              "#d8576b"
             ],
             [
              0.6666666666666666,
              "#ed7953"
             ],
             [
              0.7777777777777778,
              "#fb9f3a"
             ],
             [
              0.8888888888888888,
              "#fdca26"
             ],
             [
              1,
              "#f0f921"
             ]
            ],
            "type": "surface"
           }
          ],
          "table": [
           {
            "cells": {
             "fill": {
              "color": "#EBF0F8"
             },
             "line": {
              "color": "white"
             }
            },
            "header": {
             "fill": {
              "color": "#C8D4E3"
             },
             "line": {
              "color": "white"
             }
            },
            "type": "table"
           }
          ]
         },
         "layout": {
          "annotationdefaults": {
           "arrowcolor": "#2a3f5f",
           "arrowhead": 0,
           "arrowwidth": 1
          },
          "autotypenumbers": "strict",
          "coloraxis": {
           "colorbar": {
            "outlinewidth": 0,
            "ticks": ""
           }
          },
          "colorscale": {
           "diverging": [
            [
             0,
             "#8e0152"
            ],
            [
             0.1,
             "#c51b7d"
            ],
            [
             0.2,
             "#de77ae"
            ],
            [
             0.3,
             "#f1b6da"
            ],
            [
             0.4,
             "#fde0ef"
            ],
            [
             0.5,
             "#f7f7f7"
            ],
            [
             0.6,
             "#e6f5d0"
            ],
            [
             0.7,
             "#b8e186"
            ],
            [
             0.8,
             "#7fbc41"
            ],
            [
             0.9,
             "#4d9221"
            ],
            [
             1,
             "#276419"
            ]
           ],
           "sequential": [
            [
             0,
             "#0d0887"
            ],
            [
             0.1111111111111111,
             "#46039f"
            ],
            [
             0.2222222222222222,
             "#7201a8"
            ],
            [
             0.3333333333333333,
             "#9c179e"
            ],
            [
             0.4444444444444444,
             "#bd3786"
            ],
            [
             0.5555555555555556,
             "#d8576b"
            ],
            [
             0.6666666666666666,
             "#ed7953"
            ],
            [
             0.7777777777777778,
             "#fb9f3a"
            ],
            [
             0.8888888888888888,
             "#fdca26"
            ],
            [
             1,
             "#f0f921"
            ]
           ],
           "sequentialminus": [
            [
             0,
             "#0d0887"
            ],
            [
             0.1111111111111111,
             "#46039f"
            ],
            [
             0.2222222222222222,
             "#7201a8"
            ],
            [
             0.3333333333333333,
             "#9c179e"
            ],
            [
             0.4444444444444444,
             "#bd3786"
            ],
            [
             0.5555555555555556,
             "#d8576b"
            ],
            [
             0.6666666666666666,
             "#ed7953"
            ],
            [
             0.7777777777777778,
             "#fb9f3a"
            ],
            [
             0.8888888888888888,
             "#fdca26"
            ],
            [
             1,
             "#f0f921"
            ]
           ]
          },
          "colorway": [
           "#636efa",
           "#EF553B",
           "#00cc96",
           "#ab63fa",
           "#FFA15A",
           "#19d3f3",
           "#FF6692",
           "#B6E880",
           "#FF97FF",
           "#FECB52"
          ],
          "font": {
           "color": "#2a3f5f"
          },
          "geo": {
           "bgcolor": "white",
           "lakecolor": "white",
           "landcolor": "#E5ECF6",
           "showlakes": true,
           "showland": true,
           "subunitcolor": "white"
          },
          "hoverlabel": {
           "align": "left"
          },
          "hovermode": "closest",
          "mapbox": {
           "style": "light"
          },
          "paper_bgcolor": "white",
          "plot_bgcolor": "#E5ECF6",
          "polar": {
           "angularaxis": {
            "gridcolor": "white",
            "linecolor": "white",
            "ticks": ""
           },
           "bgcolor": "#E5ECF6",
           "radialaxis": {
            "gridcolor": "white",
            "linecolor": "white",
            "ticks": ""
           }
          },
          "scene": {
           "xaxis": {
            "backgroundcolor": "#E5ECF6",
            "gridcolor": "white",
            "gridwidth": 2,
            "linecolor": "white",
            "showbackground": true,
            "ticks": "",
            "zerolinecolor": "white"
           },
           "yaxis": {
            "backgroundcolor": "#E5ECF6",
            "gridcolor": "white",
            "gridwidth": 2,
            "linecolor": "white",
            "showbackground": true,
            "ticks": "",
            "zerolinecolor": "white"
           },
           "zaxis": {
            "backgroundcolor": "#E5ECF6",
            "gridcolor": "white",
            "gridwidth": 2,
            "linecolor": "white",
            "showbackground": true,
            "ticks": "",
            "zerolinecolor": "white"
           }
          },
          "shapedefaults": {
           "line": {
            "color": "#2a3f5f"
           }
          },
          "ternary": {
           "aaxis": {
            "gridcolor": "white",
            "linecolor": "white",
            "ticks": ""
           },
           "baxis": {
            "gridcolor": "white",
            "linecolor": "white",
            "ticks": ""
           },
           "bgcolor": "#E5ECF6",
           "caxis": {
            "gridcolor": "white",
            "linecolor": "white",
            "ticks": ""
           }
          },
          "title": {
           "x": 0.05
          },
          "xaxis": {
           "automargin": true,
           "gridcolor": "white",
           "linecolor": "white",
           "ticks": "",
           "title": {
            "standoff": 15
           },
           "zerolinecolor": "white",
           "zerolinewidth": 2
          },
          "yaxis": {
           "automargin": true,
           "gridcolor": "white",
           "linecolor": "white",
           "ticks": "",
           "title": {
            "standoff": 15
           },
           "zerolinecolor": "white",
           "zerolinewidth": 2
          }
         }
        },
        "width": 1200,
        "xaxis": {
         "anchor": "y",
         "autorange": true,
         "domain": [
          0,
          0.48
         ],
         "range": [
          27.5,
          72.5
         ],
         "title": {
          "text": "Beds"
         },
         "type": "linear"
        },
        "xaxis2": {
         "anchor": "y2",
         "autorange": true,
         "domain": [
          0.5,
          0.98
         ],
         "matches": "x",
         "range": [
          27.5,
          72.5
         ],
         "title": {
          "text": "Beds"
         },
         "type": "linear"
        },
        "xaxis3": {
         "anchor": "y3",
         "autorange": true,
         "domain": [
          0,
          0.48
         ],
         "matches": "x",
         "range": [
          27.5,
          72.5
         ],
         "showticklabels": false,
         "type": "linear"
        },
        "xaxis4": {
         "anchor": "y4",
         "autorange": true,
         "domain": [
          0.5,
          0.98
         ],
         "matches": "x",
         "range": [
          27.5,
          72.5
         ],
         "showticklabels": false,
         "type": "linear"
        },
        "xaxis5": {
         "anchor": "y5",
         "autorange": true,
         "domain": [
          0,
          0.48
         ],
         "matches": "x",
         "range": [
          27.5,
          72.5
         ],
         "showticklabels": false,
         "type": "linear"
        },
        "xaxis6": {
         "anchor": "y6",
         "autorange": true,
         "domain": [
          0.5,
          0.98
         ],
         "matches": "x",
         "range": [
          27.5,
          72.5
         ],
         "showticklabels": false,
         "type": "linear"
        },
        "yaxis": {
         "anchor": "x",
         "autorange": true,
         "domain": [
          0,
          0.3133333333333333
         ],
         "matches": "y",
         "range": [
          0,
          10.90033416875522
         ],
         "title": {
          "text": "Means per day"
         },
         "type": "linear"
        },
        "yaxis2": {
         "anchor": "x2",
         "autorange": true,
         "domain": [
          0,
          0.3133333333333333
         ],
         "matches": "y",
         "range": [
          0,
          10.90033416875522
         ],
         "showticklabels": false,
         "type": "linear"
        },
        "yaxis3": {
         "anchor": "x3",
         "autorange": true,
         "domain": [
          0.34333333333333327,
          0.6566666666666665
         ],
         "matches": "y3",
         "range": [
          0,
          0.9942957393483711
         ],
         "title": {
          "text": "Means per day"
         },
         "type": "linear"
        },
        "yaxis4": {
         "anchor": "x4",
         "autorange": true,
         "domain": [
          0.34333333333333327,
          0.6566666666666665
         ],
         "matches": "y3",
         "range": [
          0,
          0.9942957393483711
         ],
         "showticklabels": false,
         "type": "linear"
        },
        "yaxis5": {
         "anchor": "x5",
         "autorange": true,
         "domain": [
          0.6866666666666665,
          0.9999999999999998
         ],
         "matches": "y5",
         "range": [
          0,
          15.527151211361737
         ],
         "title": {
          "text": "Means per day"
         },
         "type": "linear"
        },
        "yaxis6": {
         "anchor": "x6",
         "autorange": true,
         "domain": [
          0.6866666666666665,
          0.9999999999999998
         ],
         "matches": "y5",
         "range": [
          0,
          15.527151211361737
         ],
         "showticklabels": false,
         "type": "linear"
        }
       }
      },
      "image/png": "[encoded data removed]",
      "text/html": [
       "<div>                            <div id=\"88159b9a-ad38-4e8d-b1a3-b22751779cc3\" class=\"plotly-graph-div\" style=\"height:800px; width:1200px;\"></div>            <script type=\"text/javascript\">                require([\"plotly\"], function(Plotly) {                    window.PLOTLYENV=window.PLOTLYENV || {};                                    if (document.getElementById(\"88159b9a-ad38-4e8d-b1a3-b22751779cc3\")) {                    Plotly.newPlot(                        \"88159b9a-ad38-4e8d-b1a3-b22751779cc3\",                        [{\"alignmentgroup\":\"True\",\"hovertemplate\":\"scenarios=high_los, prop_high<br>Measure = Throughput<br>Schedule = Baseline<br>Beds=%{x}<br>Means per day=%{y}<extra></extra>\",\"legendgroup\":\"high_los, prop_high\",\"marker\":{\"color\":\"#636efa\",\"pattern\":{\"shape\":\"\"}},\"name\":\"high_los, prop_high\",\"offsetgroup\":\"high_los, prop_high\",\"orientation\":\"v\",\"showlegend\":true,\"textposition\":\"auto\",\"x\":[30,40,50,60,70,35,45,55,65],\"xaxis\":\"x5\",\"y\":[5.1875873015873015,6.800317460317459,8.177873015873017,9.521777777777777,10.776984126984129,6.030571428571429,7.548984126984126,8.852031746031747,10.151809523809524],\"yaxis\":\"y5\",\"type\":\"bar\"},{\"alignmentgroup\":\"True\",\"hovertemplate\":\"scenarios=high_los, prop_high<br>Measure = Throughput<br>Schedule = Baseline + weekends<br>Beds=%{x}<br>Means per day=%{y}<extra></extra>\",\"legendgroup\":\"high_los, prop_high\",\"marker\":{\"color\":\"#636efa\",\"pattern\":{\"shape\":\"\"}},\"name\":\"high_los, prop_high\",\"offsetgroup\":\"high_los, prop_high\",\"orientation\":\"v\",\"showlegend\":false,\"textposition\":\"auto\",\"x\":[30,40,50,60,70,35,45,55,65],\"xaxis\":\"x6\",\"y\":[5.142,6.83311111111111,8.434984126984126,9.974634920634921,11.377999999999998,5.998507936507936,7.604285714285714,9.107714285714286,10.676888888888888],\"yaxis\":\"y6\",\"type\":\"bar\"},{\"alignmentgroup\":\"True\",\"hovertemplate\":\"scenarios=high_los, prop_high<br>Measure = Utilisation<br>Schedule = Baseline<br>Beds=%{x}<br>Means per day=%{y}<extra></extra>\",\"legendgroup\":\"high_los, prop_high\",\"marker\":{\"color\":\"#636efa\",\"pattern\":{\"shape\":\"\"}},\"name\":\"high_los, prop_high\",\"offsetgroup\":\"high_los, prop_high\",\"orientation\":\"v\",\"showlegend\":false,\"textposition\":\"auto\",\"x\":[30,40,50,60,70,35,45,55,65],\"xaxis\":\"x3\",\"y\":[0.9046666666666667,0.8957071428571429,0.87652,0.8509619047619048,0.824342857142857,0.9010857142857144,0.888431746031746,0.8669090909090909,0.8437538461538461],\"yaxis\":\"y3\",\"type\":\"bar\"},{\"alignmentgroup\":\"True\",\"hovertemplate\":\"scenarios=high_los, prop_high<br>Measure = Utilisation<br>Schedule = Baseline + weekends<br>Beds=%{x}<br>Means per day=%{y}<extra></extra>\",\"legendgroup\":\"high_los, prop_high\",\"marker\":{\"color\":\"#636efa\",\"pattern\":{\"shape\":\"\"}},\"name\":\"high_los, prop_high\",\"offsetgroup\":\"high_los, prop_high\",\"orientation\":\"v\",\"showlegend\":false,\"textposition\":\"auto\",\"x\":[30,40,50,60,70,35,45,55,65],\"xaxis\":\"x4\",\"y\":[0.9445809523809525,0.9412357142857143,0.9373885714285715,0.9315761904761904,0.9236489795918369,0.9428244897959184,0.9400571428571429,0.933412987012987,0.9274241758241759],\"yaxis\":\"y4\",\"type\":\"bar\"},{\"alignmentgroup\":\"True\",\"hovertemplate\":\"scenarios=high_los, prop_high<br>Measure = Lost slots<br>Schedule = Baseline<br>Beds=%{x}<br>Means per day=%{y}<extra></extra>\",\"legendgroup\":\"high_los, prop_high\",\"marker\":{\"color\":\"#636efa\",\"pattern\":{\"shape\":\"\"}},\"name\":\"high_los, prop_high\",\"offsetgroup\":\"high_los, prop_high\",\"orientation\":\"v\",\"showlegend\":false,\"textposition\":\"auto\",\"x\":[30,40,50,60,70,35,45,55,65],\"xaxis\":\"x\",\"y\":[6.163174603174603,4.69670634920635,3.227738095238095,1.9285714285714286,0.8073015873015874,5.378452380952381,3.946904761904762,2.539484126984127,1.2460317460317463],\"yaxis\":\"y\",\"type\":\"bar\"},{\"alignmentgroup\":\"True\",\"hovertemplate\":\"scenarios=high_los, prop_high<br>Measure = Lost slots<br>Schedule = Baseline + weekends<br>Beds=%{x}<br>Means per day=%{y}<extra></extra>\",\"legendgroup\":\"high_los, prop_high\",\"marker\":{\"color\":\"#636efa\",\"pattern\":{\"shape\":\"\"}},\"name\":\"high_los, prop_high\",\"offsetgroup\":\"high_los, prop_high\",\"orientation\":\"v\",\"showlegend\":false,\"textposition\":\"auto\",\"x\":[30,40,50,60,70,35,45,55,65],\"xaxis\":\"x2\",\"y\":[10.35531746031746,8.530515873015872,6.806468253968254,5.146428571428571,3.6282539682539685,9.432976190476191,7.699761904761906,6.079722222222222,4.385555555555556],\"yaxis\":\"y2\",\"type\":\"bar\"},{\"alignmentgroup\":\"True\",\"hovertemplate\":\"scenarios=low_los, prop_low<br>Measure = Throughput<br>Schedule = Baseline<br>Beds=%{x}<br>Means per day=%{y}<extra></extra>\",\"legendgroup\":\"low_los, prop_low\",\"marker\":{\"color\":\"#EF553B\",\"pattern\":{\"shape\":\"\"}},\"name\":\"low_los, prop_low\",\"offsetgroup\":\"low_los, prop_low\",\"orientation\":\"v\",\"showlegend\":true,\"textposition\":\"auto\",\"x\":[35,45,55,65,30,40,50,60,70],\"xaxis\":\"x5\",\"y\":[11.350793650793651,11.092063492063492,11.43968253968254,11.195238095238095,11.375650793650793,11.314285714285715,11.711111111111112,11.212698412698414,11.657142857142858],\"yaxis\":\"y5\",\"type\":\"bar\"},{\"alignmentgroup\":\"True\",\"hovertemplate\":\"scenarios=low_los, prop_low<br>Measure = Throughput<br>Schedule = Baseline + weekends<br>Beds=%{x}<br>Means per day=%{y}<extra></extra>\",\"legendgroup\":\"low_los, prop_low\",\"marker\":{\"color\":\"#EF553B\",\"pattern\":{\"shape\":\"\"}},\"name\":\"low_los, prop_low\",\"offsetgroup\":\"low_los, prop_low\",\"orientation\":\"v\",\"showlegend\":false,\"textposition\":\"auto\",\"x\":[35,45,55,65,30,40,50,60,70],\"xaxis\":\"x6\",\"y\":[14.741873015873017,14.75079365079365,14.75079365079365,14.75079365079365,14.64679365079365,14.75079365079365,14.75079365079365,14.75079365079365,14.75079365079365],\"yaxis\":\"y6\",\"type\":\"bar\"},{\"alignmentgroup\":\"True\",\"hovertemplate\":\"scenarios=low_los, prop_low<br>Measure = Utilisation<br>Schedule = Baseline<br>Beds=%{x}<br>Means per day=%{y}<extra></extra>\",\"legendgroup\":\"low_los, prop_low\",\"marker\":{\"color\":\"#EF553B\",\"pattern\":{\"shape\":\"\"}},\"name\":\"low_los, prop_low\",\"offsetgroup\":\"low_los, prop_low\",\"orientation\":\"v\",\"showlegend\":false,\"textposition\":\"auto\",\"x\":[35,45,55,65,30,40,50,60,70],\"xaxis\":\"x3\",\"y\":[0.3685877551020408,0.2848126984126984,0.23588571428571425,0.1994901098901099,0.4332285714285714,0.32680000000000003,0.26074285714285717,0.21206190476190476,0.1866204081632653],\"yaxis\":\"y3\",\"type\":\"bar\"},{\"alignmentgroup\":\"True\",\"hovertemplate\":\"scenarios=low_los, prop_low<br>Measure = Utilisation<br>Schedule = Baseline + weekends<br>Beds=%{x}<br>Means per day=%{y}<extra></extra>\",\"legendgroup\":\"low_los, prop_low\",\"marker\":{\"color\":\"#EF553B\",\"pattern\":{\"shape\":\"\"}},\"name\":\"low_los, prop_low\",\"offsetgroup\":\"low_los, prop_low\",\"orientation\":\"v\",\"showlegend\":false,\"textposition\":\"auto\",\"x\":[35,45,55,65,30,40,50,60,70],\"xaxis\":\"x4\",\"y\":[0.49866938775510206,0.3852190476190476,0.3149662337662338,0.26454065934065935,0.5782476190476191,0.43409285714285717,0.34452000000000005,0.29048095238095234,0.25],\"yaxis\":\"y4\",\"type\":\"bar\"},{\"alignmentgroup\":\"True\",\"hovertemplate\":\"scenarios=low_los, prop_low<br>Measure = Lost slots<br>Schedule = Baseline<br>Beds=%{x}<br>Means per day=%{y}<extra></extra>\",\"legendgroup\":\"low_los, prop_low\",\"marker\":{\"color\":\"#EF553B\",\"pattern\":{\"shape\":\"\"}},\"name\":\"low_los, prop_low\",\"offsetgroup\":\"low_los, prop_low\",\"orientation\":\"v\",\"showlegend\":false,\"textposition\":\"auto\",\"x\":[35,45,55,65,30,40,50,60,70],\"xaxis\":\"x\",\"y\":[0.0,0.0,0.0,0.0,0.0034920634920634916,0.0,0.0,0.0,0.0],\"yaxis\":\"y\",\"type\":\"bar\"},{\"alignmentgroup\":\"True\",\"hovertemplate\":\"scenarios=low_los, prop_low<br>Measure = Lost slots<br>Schedule = Baseline + weekends<br>Beds=%{x}<br>Means per day=%{y}<extra></extra>\",\"legendgroup\":\"low_los, prop_low\",\"marker\":{\"color\":\"#EF553B\",\"pattern\":{\"shape\":\"\"}},\"name\":\"low_los, prop_low\",\"offsetgroup\":\"low_los, prop_low\",\"orientation\":\"v\",\"showlegend\":false,\"textposition\":\"auto\",\"x\":[35,45,55,65,30,40,50,60,70],\"xaxis\":\"x2\",\"y\":[0.009523809523809523,0.0,0.0,0.0,0.11210317460317461,0.0,0.0,0.0,0.0],\"yaxis\":\"y2\",\"type\":\"bar\"},{\"alignmentgroup\":\"True\",\"hovertemplate\":\"scenarios=high_los, prop_low<br>Measure = Throughput<br>Schedule = Baseline<br>Beds=%{x}<br>Means per day=%{y}<extra></extra>\",\"legendgroup\":\"high_los, prop_low\",\"marker\":{\"color\":\"#00cc96\",\"pattern\":{\"shape\":\"\"}},\"name\":\"high_los, prop_low\",\"offsetgroup\":\"high_los, prop_low\",\"orientation\":\"v\",\"showlegend\":true,\"textposition\":\"auto\",\"x\":[30,40,50,60,70,35,45,55,65],\"xaxis\":\"x5\",\"y\":[5.806920634920636,7.450507936507937,8.856984126984127,10.280285714285714,11.234666666666667,6.661714285714284,8.302349206349207,9.775238095238095,10.96136507936508],\"yaxis\":\"y5\",\"type\":\"bar\"},{\"alignmentgroup\":\"True\",\"hovertemplate\":\"scenarios=high_los, prop_low<br>Measure = Throughput<br>Schedule = Baseline + weekends<br>Beds=%{x}<br>Means per day=%{y}<extra></extra>\",\"legendgroup\":\"high_los, prop_low\",\"marker\":{\"color\":\"#00cc96\",\"pattern\":{\"shape\":\"\"}},\"name\":\"high_los, prop_low\",\"offsetgroup\":\"high_los, prop_low\",\"orientation\":\"v\",\"showlegend\":false,\"textposition\":\"auto\",\"x\":[30,40,50,60,70,35,45,55,65],\"xaxis\":\"x6\",\"y\":[5.924317460317461,7.702126984126984,9.430444444444445,11.06622222222222,12.585555555555556,6.81526984126984,8.618571428571427,10.263174603174603,11.871936507936509],\"yaxis\":\"y6\",\"type\":\"bar\"},{\"alignmentgroup\":\"True\",\"hovertemplate\":\"scenarios=high_los, prop_low<br>Measure = Utilisation<br>Schedule = Baseline<br>Beds=%{x}<br>Means per day=%{y}<extra></extra>\",\"legendgroup\":\"high_los, prop_low\",\"marker\":{\"color\":\"#00cc96\",\"pattern\":{\"shape\":\"\"}},\"name\":\"high_los, prop_low\",\"offsetgroup\":\"high_los, prop_low\",\"orientation\":\"v\",\"showlegend\":false,\"textposition\":\"auto\",\"x\":[30,40,50,60,70,35,45,55,65],\"xaxis\":\"x3\",\"y\":[0.8933809523809524,0.8738071428571428,0.8484914285714287,0.8154666666666667,0.7593836734693877,0.880791836734694,0.8618793650793651,0.8383220779220779,0.7968747252747254],\"yaxis\":\"y3\",\"type\":\"bar\"},{\"alignmentgroup\":\"True\",\"hovertemplate\":\"scenarios=high_los, prop_low<br>Measure = Utilisation<br>Schedule = Baseline + weekends<br>Beds=%{x}<br>Means per day=%{y}<extra></extra>\",\"legendgroup\":\"high_los, prop_low\",\"marker\":{\"color\":\"#00cc96\",\"pattern\":{\"shape\":\"\"}},\"name\":\"high_los, prop_low\",\"offsetgroup\":\"high_los, prop_low\",\"orientation\":\"v\",\"showlegend\":false,\"textposition\":\"auto\",\"x\":[30,40,50,60,70,35,45,55,65],\"xaxis\":\"x4\",\"y\":[0.9382476190476191,0.9317571428571428,0.9255542857142858,0.9161714285714284,0.9014448979591837,0.9336081632653062,0.9291619047619049,0.9202701298701299,0.90829010989011],\"yaxis\":\"y4\",\"type\":\"bar\"},{\"alignmentgroup\":\"True\",\"hovertemplate\":\"scenarios=high_los, prop_low<br>Measure = Lost slots<br>Schedule = Baseline<br>Beds=%{x}<br>Means per day=%{y}<extra></extra>\",\"legendgroup\":\"high_los, prop_low\",\"marker\":{\"color\":\"#00cc96\",\"pattern\":{\"shape\":\"\"}},\"name\":\"high_los, prop_low\",\"offsetgroup\":\"high_los, prop_low\",\"orientation\":\"v\",\"showlegend\":false,\"textposition\":\"auto\",\"x\":[30,40,50,60,70,35,45,55,65],\"xaxis\":\"x\",\"y\":[5.856507936507937,3.9692460317460316,2.441904761904762,1.1593650793650794,0.22603174603174603,4.668809523809523,3.1567857142857143,1.7307936507936508,0.58],\"yaxis\":\"y\",\"type\":\"bar\"},{\"alignmentgroup\":\"True\",\"hovertemplate\":\"scenarios=high_los, prop_low<br>Measure = Lost slots<br>Schedule = Baseline + weekends<br>Beds=%{x}<br>Means per day=%{y}<extra></extra>\",\"legendgroup\":\"high_los, prop_low\",\"marker\":{\"color\":\"#00cc96\",\"pattern\":{\"shape\":\"\"}},\"name\":\"high_los, prop_low\",\"offsetgroup\":\"high_los, prop_low\",\"orientation\":\"v\",\"showlegend\":false,\"textposition\":\"auto\",\"x\":[30,40,50,60,70,35,45,55,65],\"xaxis\":\"x2\",\"y\":[9.513769841269843,7.5928571428571425,5.728849206349206,3.964523809523809,2.3267857142857147,8.552539682539683,6.604642857142857,4.8307142857142855,3.0993253968253964],\"yaxis\":\"y2\",\"type\":\"bar\"},{\"alignmentgroup\":\"True\",\"hovertemplate\":\"scenarios=low_los, prop_high<br>Measure = Throughput<br>Schedule = Baseline<br>Beds=%{x}<br>Means per day=%{y}<extra></extra>\",\"legendgroup\":\"low_los, prop_high\",\"marker\":{\"color\":\"#ab63fa\",\"pattern\":{\"shape\":\"\"}},\"name\":\"low_los, prop_high\",\"offsetgroup\":\"low_los, prop_high\",\"orientation\":\"v\",\"showlegend\":true,\"textposition\":\"auto\",\"x\":[35,45,55,65,30,40,50,60,70],\"xaxis\":\"x5\",\"y\":[11.170126984126984,11.355269841269841,11.250793650793652,11.312698412698413,10.577238095238096,11.443809523809524,11.238095238095239,11.412698412698413,11.517460317460317],\"yaxis\":\"y5\",\"type\":\"bar\"},{\"alignmentgroup\":\"True\",\"hovertemplate\":\"scenarios=low_los, prop_high<br>Measure = Throughput<br>Schedule = Baseline + weekends<br>Beds=%{x}<br>Means per day=%{y}<extra></extra>\",\"legendgroup\":\"low_los, prop_high\",\"marker\":{\"color\":\"#ab63fa\",\"pattern\":{\"shape\":\"\"}},\"name\":\"low_los, prop_high\",\"offsetgroup\":\"low_los, prop_high\",\"orientation\":\"v\",\"showlegend\":false,\"textposition\":\"auto\",\"x\":[35,45,55,65,30,40,50,60,70],\"xaxis\":\"x6\",\"y\":[13.134539682539682,14.634857142857143,14.74831746031746,14.75079365079365,11.718793650793653,14.169492063492061,14.738984126984127,14.75047619047619,14.75079365079365],\"yaxis\":\"y6\",\"type\":\"bar\"},{\"alignmentgroup\":\"True\",\"hovertemplate\":\"scenarios=low_los, prop_high<br>Measure = Utilisation<br>Schedule = Baseline<br>Beds=%{x}<br>Means per day=%{y}<extra></extra>\",\"legendgroup\":\"low_los, prop_high\",\"marker\":{\"color\":\"#ab63fa\",\"pattern\":{\"shape\":\"\"}},\"name\":\"low_los, prop_high\",\"offsetgroup\":\"low_los, prop_high\",\"orientation\":\"v\",\"showlegend\":false,\"textposition\":\"auto\",\"x\":[35,45,55,65,30,40,50,60,70],\"xaxis\":\"x3\",\"y\":[0.6454530612244898,0.4922412698412698,0.4067792207792208,0.3427736263736264,0.7200285714285714,0.5552142857142857,0.4457428571428571,0.3727095238095238,0.3213061224489796],\"yaxis\":\"y3\",\"type\":\"bar\"},{\"alignmentgroup\":\"True\",\"hovertemplate\":\"scenarios=low_los, prop_high<br>Measure = Utilisation<br>Schedule = Baseline + weekends<br>Beds=%{x}<br>Means per day=%{y}<extra></extra>\",\"legendgroup\":\"low_los, prop_high\",\"marker\":{\"color\":\"#ab63fa\",\"pattern\":{\"shape\":\"\"}},\"name\":\"low_los, prop_high\",\"offsetgroup\":\"low_los, prop_high\",\"orientation\":\"v\",\"showlegend\":false,\"textposition\":\"auto\",\"x\":[35,45,55,65,30,40,50,60,70],\"xaxis\":\"x4\",\"y\":[0.8152163265306123,0.6735555555555556,0.557812987012987,0.4588395604395604,0.8585238095238096,0.7502571428571427,0.5987485714285714,0.4986761904761905,0.43281224489795916],\"yaxis\":\"y4\",\"type\":\"bar\"},{\"alignmentgroup\":\"True\",\"hovertemplate\":\"scenarios=low_los, prop_high<br>Measure = Lost slots<br>Schedule = Baseline<br>Beds=%{x}<br>Means per day=%{y}<extra></extra>\",\"legendgroup\":\"low_los, prop_high\",\"marker\":{\"color\":\"#ab63fa\",\"pattern\":{\"shape\":\"\"}},\"name\":\"low_los, prop_high\",\"offsetgroup\":\"low_los, prop_high\",\"orientation\":\"v\",\"showlegend\":false,\"textposition\":\"auto\",\"x\":[35,45,55,65,30,40,50,60,70],\"xaxis\":\"x\",\"y\":[0.15785714285714286,0.00031746031746031746,0.0,0.0,0.6944047619047619,0.02011904761904762,0.0,0.0,0.0],\"yaxis\":\"y\",\"type\":\"bar\"},{\"alignmentgroup\":\"True\",\"hovertemplate\":\"scenarios=low_los, prop_high<br>Measure = Lost slots<br>Schedule = Baseline + weekends<br>Beds=%{x}<br>Means per day=%{y}<extra></extra>\",\"legendgroup\":\"low_los, prop_high\",\"marker\":{\"color\":\"#ab63fa\",\"pattern\":{\"shape\":\"\"}},\"name\":\"low_los, prop_high\",\"offsetgroup\":\"low_los, prop_high\",\"orientation\":\"v\",\"showlegend\":false,\"textposition\":\"auto\",\"x\":[35,45,55,65,30,40,50,60,70],\"xaxis\":\"x2\",\"y\":[1.741468253968254,0.12499999999999999,0.0025396825396825397,0.0,3.2609920634920635,0.6248412698412699,0.01265873015873016,0.00031746031746031746,0.0],\"yaxis\":\"y2\",\"type\":\"bar\"}],                        {\"template\":{\"data\":{\"histogram2dcontour\":[{\"type\":\"histogram2dcontour\",\"colorbar\":{\"outlinewidth\":0,\"ticks\":\"\"},\"colorscale\":[[0.0,\"#0d0887\"],[0.1111111111111111,\"#46039f\"],[0.2222222222222222,\"#7201a8\"],[0.3333333333333333,\"#9c179e\"],[0.4444444444444444,\"#bd3786\"],[0.5555555555555556,\"#d8576b\"],[0.6666666666666666,\"#ed7953\"],[0.7777777777777778,\"#fb9f3a\"],[0.8888888888888888,\"#fdca26\"],[1.0,\"#f0f921\"]]}],\"choropleth\":[{\"type\":\"choropleth\",\"colorbar\":{\"outlinewidth\":0,\"ticks\":\"\"}}],\"histogram2d\":[{\"type\":\"histogram2d\",\"colorbar\":{\"outlinewidth\":0,\"ticks\":\"\"},\"colorscale\":[[0.0,\"#0d0887\"],[0.1111111111111111,\"#46039f\"],[0.2222222222222222,\"#7201a8\"],[0.3333333333333333,\"#9c179e\"],[0.4444444444444444,\"#bd3786\"],[0.5555555555555556,\"#d8576b\"],[0.6666666666666666,\"#ed7953\"],[0.7777777777777778,\"#fb9f3a\"],[0.8888888888888888,\"#fdca26\"],[1.0,\"#f0f921\"]]}],\"heatmap\":[{\"type\":\"heatmap\",\"colorbar\":{\"outlinewidth\":0,\"ticks\":\"\"},\"colorscale\":[[0.0,\"#0d0887\"],[0.1111111111111111,\"#46039f\"],[0.2222222222222222,\"#7201a8\"],[0.3333333333333333,\"#9c179e\"],[0.4444444444444444,\"#bd3786\"],[0.5555555555555556,\"#d8576b\"],[0.6666666666666666,\"#ed7953\"],[0.7777777777777778,\"#fb9f3a\"],[0.8888888888888888,\"#fdca26\"],[1.0,\"#f0f921\"]]}],\"heatmapgl\":[{\"type\":\"heatmapgl\",\"colorbar\":{\"outlinewidth\":0,\"ticks\":\"\"},\"colorscale\":[[0.0,\"#0d0887\"],[0.1111111111111111,\"#46039f\"],[0.2222222222222222,\"#7201a8\"],[0.3333333333333333,\"#9c179e\"],[0.4444444444444444,\"#bd3786\"],[0.5555555555555556,\"#d8576b\"],[0.6666666666666666,\"#ed7953\"],[0.7777777777777778,\"#fb9f3a\"],[0.8888888888888888,\"#fdca26\"],[1.0,\"#f0f921\"]]}],\"contourcarpet\":[{\"type\":\"contourcarpet\",\"colorbar\":{\"outlinewidth\":0,\"ticks\":\"\"}}],\"contour\":[{\"type\":\"contour\",\"colorbar\":{\"outlinewidth\":0,\"ticks\":\"\"},\"colorscale\":[[0.0,\"#0d0887\"],[0.1111111111111111,\"#46039f\"],[0.2222222222222222,\"#7201a8\"],[0.3333333333333333,\"#9c179e\"],[0.4444444444444444,\"#bd3786\"],[0.5555555555555556,\"#d8576b\"],[0.6666666666666666,\"#ed7953\"],[0.7777777777777778,\"#fb9f3a\"],[0.8888888888888888,\"#fdca26\"],[1.0,\"#f0f921\"]]}],\"surface\":[{\"type\":\"surface\",\"colorbar\":{\"outlinewidth\":0,\"ticks\":\"\"},\"colorscale\":[[0.0,\"#0d0887\"],[0.1111111111111111,\"#46039f\"],[0.2222222222222222,\"#7201a8\"],[0.3333333333333333,\"#9c179e\"],[0.4444444444444444,\"#bd3786\"],[0.5555555555555556,\"#d8576b\"],[0.6666666666666666,\"#ed7953\"],[0.7777777777777778,\"#fb9f3a\"],[0.8888888888888888,\"#fdca26\"],[1.0,\"#f0f921\"]]}],\"mesh3d\":[{\"type\":\"mesh3d\",\"colorbar\":{\"outlinewidth\":0,\"ticks\":\"\"}}],\"scatter\":[{\"fillpattern\":{\"fillmode\":\"overlay\",\"size\":10,\"solidity\":0.2},\"type\":\"scatter\"}],\"parcoords\":[{\"type\":\"parcoords\",\"line\":{\"colorbar\":{\"outlinewidth\":0,\"ticks\":\"\"}}}],\"scatterpolargl\":[{\"type\":\"scatterpolargl\",\"marker\":{\"colorbar\":{\"outlinewidth\":0,\"ticks\":\"\"}}}],\"bar\":[{\"error_x\":{\"color\":\"#2a3f5f\"},\"error_y\":{\"color\":\"#2a3f5f\"},\"marker\":{\"line\":{\"color\":\"#E5ECF6\",\"width\":0.5},\"pattern\":{\"fillmode\":\"overlay\",\"size\":10,\"solidity\":0.2}},\"type\":\"bar\"}],\"scattergeo\":[{\"type\":\"scattergeo\",\"marker\":{\"colorbar\":{\"outlinewidth\":0,\"ticks\":\"\"}}}],\"scatterpolar\":[{\"type\":\"scatterpolar\",\"marker\":{\"colorbar\":{\"outlinewidth\":0,\"ticks\":\"\"}}}],\"histogram\":[{\"marker\":{\"pattern\":{\"fillmode\":\"overlay\",\"size\":10,\"solidity\":0.2}},\"type\":\"histogram\"}],\"scattergl\":[{\"type\":\"scattergl\",\"marker\":{\"colorbar\":{\"outlinewidth\":0,\"ticks\":\"\"}}}],\"scatter3d\":[{\"type\":\"scatter3d\",\"line\":{\"colorbar\":{\"outlinewidth\":0,\"ticks\":\"\"}},\"marker\":{\"colorbar\":{\"outlinewidth\":0,\"ticks\":\"\"}}}],\"scattermapbox\":[{\"type\":\"scattermapbox\",\"marker\":{\"colorbar\":{\"outlinewidth\":0,\"ticks\":\"\"}}}],\"scatterternary\":[{\"type\":\"scatterternary\",\"marker\":{\"colorbar\":{\"outlinewidth\":0,\"ticks\":\"\"}}}],\"scattercarpet\":[{\"type\":\"scattercarpet\",\"marker\":{\"colorbar\":{\"outlinewidth\":0,\"ticks\":\"\"}}}],\"carpet\":[{\"aaxis\":{\"endlinecolor\":\"#2a3f5f\",\"gridcolor\":\"white\",\"linecolor\":\"white\",\"minorgridcolor\":\"white\",\"startlinecolor\":\"#2a3f5f\"},\"baxis\":{\"endlinecolor\":\"#2a3f5f\",\"gridcolor\":\"white\",\"linecolor\":\"white\",\"minorgridcolor\":\"white\",\"startlinecolor\":\"#2a3f5f\"},\"type\":\"carpet\"}],\"table\":[{\"cells\":{\"fill\":{\"color\":\"#EBF0F8\"},\"line\":{\"color\":\"white\"}},\"header\":{\"fill\":{\"color\":\"#C8D4E3\"},\"line\":{\"color\":\"white\"}},\"type\":\"table\"}],\"barpolar\":[{\"marker\":{\"line\":{\"color\":\"#E5ECF6\",\"width\":0.5},\"pattern\":{\"fillmode\":\"overlay\",\"size\":10,\"solidity\":0.2}},\"type\":\"barpolar\"}],\"pie\":[{\"automargin\":true,\"type\":\"pie\"}]},\"layout\":{\"autotypenumbers\":\"strict\",\"colorway\":[\"#636efa\",\"#EF553B\",\"#00cc96\",\"#ab63fa\",\"#FFA15A\",\"#19d3f3\",\"#FF6692\",\"#B6E880\",\"#FF97FF\",\"#FECB52\"],\"font\":{\"color\":\"#2a3f5f\"},\"hovermode\":\"closest\",\"hoverlabel\":{\"align\":\"left\"},\"paper_bgcolor\":\"white\",\"plot_bgcolor\":\"#E5ECF6\",\"polar\":{\"bgcolor\":\"#E5ECF6\",\"angularaxis\":{\"gridcolor\":\"white\",\"linecolor\":\"white\",\"ticks\":\"\"},\"radialaxis\":{\"gridcolor\":\"white\",\"linecolor\":\"white\",\"ticks\":\"\"}},\"ternary\":{\"bgcolor\":\"#E5ECF6\",\"aaxis\":{\"gridcolor\":\"white\",\"linecolor\":\"white\",\"ticks\":\"\"},\"baxis\":{\"gridcolor\":\"white\",\"linecolor\":\"white\",\"ticks\":\"\"},\"caxis\":{\"gridcolor\":\"white\",\"linecolor\":\"white\",\"ticks\":\"\"}},\"coloraxis\":{\"colorbar\":{\"outlinewidth\":0,\"ticks\":\"\"}},\"colorscale\":{\"sequential\":[[0.0,\"#0d0887\"],[0.1111111111111111,\"#46039f\"],[0.2222222222222222,\"#7201a8\"],[0.3333333333333333,\"#9c179e\"],[0.4444444444444444,\"#bd3786\"],[0.5555555555555556,\"#d8576b\"],[0.6666666666666666,\"#ed7953\"],[0.7777777777777778,\"#fb9f3a\"],[0.8888888888888888,\"#fdca26\"],[1.0,\"#f0f921\"]],\"sequentialminus\":[[0.0,\"#0d0887\"],[0.1111111111111111,\"#46039f\"],[0.2222222222222222,\"#7201a8\"],[0.3333333333333333,\"#9c179e\"],[0.4444444444444444,\"#bd3786\"],[0.5555555555555556,\"#d8576b\"],[0.6666666666666666,\"#ed7953\"],[0.7777777777777778,\"#fb9f3a\"],[0.8888888888888888,\"#fdca26\"],[1.0,\"#f0f921\"]],\"diverging\":[[0,\"#8e0152\"],[0.1,\"#c51b7d\"],[0.2,\"#de77ae\"],[0.3,\"#f1b6da\"],[0.4,\"#fde0ef\"],[0.5,\"#f7f7f7\"],[0.6,\"#e6f5d0\"],[0.7,\"#b8e186\"],[0.8,\"#7fbc41\"],[0.9,\"#4d9221\"],[1,\"#276419\"]]},\"xaxis\":{\"gridcolor\":\"white\",\"linecolor\":\"white\",\"ticks\":\"\",\"title\":{\"standoff\":15},\"zerolinecolor\":\"white\",\"automargin\":true,\"zerolinewidth\":2},\"yaxis\":{\"gridcolor\":\"white\",\"linecolor\":\"white\",\"ticks\":\"\",\"title\":{\"standoff\":15},\"zerolinecolor\":\"white\",\"automargin\":true,\"zerolinewidth\":2},\"scene\":{\"xaxis\":{\"backgroundcolor\":\"#E5ECF6\",\"gridcolor\":\"white\",\"linecolor\":\"white\",\"showbackground\":true,\"ticks\":\"\",\"zerolinecolor\":\"white\",\"gridwidth\":2},\"yaxis\":{\"backgroundcolor\":\"#E5ECF6\",\"gridcolor\":\"white\",\"linecolor\":\"white\",\"showbackground\":true,\"ticks\":\"\",\"zerolinecolor\":\"white\",\"gridwidth\":2},\"zaxis\":{\"backgroundcolor\":\"#E5ECF6\",\"gridcolor\":\"white\",\"linecolor\":\"white\",\"showbackground\":true,\"ticks\":\"\",\"zerolinecolor\":\"white\",\"gridwidth\":2}},\"shapedefaults\":{\"line\":{\"color\":\"#2a3f5f\"}},\"annotationdefaults\":{\"arrowcolor\":\"#2a3f5f\",\"arrowhead\":0,\"arrowwidth\":1},\"geo\":{\"bgcolor\":\"white\",\"landcolor\":\"#E5ECF6\",\"subunitcolor\":\"white\",\"showland\":true,\"showlakes\":true,\"lakecolor\":\"white\"},\"title\":{\"x\":0.05},\"mapbox\":{\"style\":\"light\"}}},\"xaxis\":{\"anchor\":\"y\",\"domain\":[0.0,0.48],\"title\":{\"text\":\"Beds\"}},\"yaxis\":{\"anchor\":\"x\",\"domain\":[0.0,0.3133333333333333],\"title\":{\"text\":\"Means per day\"},\"matches\":\"y\"},\"xaxis2\":{\"anchor\":\"y2\",\"domain\":[0.5,0.98],\"matches\":\"x\",\"title\":{\"text\":\"Beds\"}},\"yaxis2\":{\"anchor\":\"x2\",\"domain\":[0.0,0.3133333333333333],\"matches\":\"y\",\"showticklabels\":false},\"xaxis3\":{\"anchor\":\"y3\",\"domain\":[0.0,0.48],\"matches\":\"x\",\"showticklabels\":false},\"yaxis3\":{\"anchor\":\"x3\",\"domain\":[0.34333333333333327,0.6566666666666665],\"matches\":\"y3\",\"title\":{\"text\":\"Means per day\"}},\"xaxis4\":{\"anchor\":\"y4\",\"domain\":[0.5,0.98],\"matches\":\"x\",\"showticklabels\":false},\"yaxis4\":{\"anchor\":\"x4\",\"domain\":[0.34333333333333327,0.6566666666666665],\"matches\":\"y3\",\"showticklabels\":false},\"xaxis5\":{\"anchor\":\"y5\",\"domain\":[0.0,0.48],\"matches\":\"x\",\"showticklabels\":false},\"yaxis5\":{\"anchor\":\"x5\",\"domain\":[0.6866666666666665,0.9999999999999998],\"matches\":\"y5\",\"title\":{\"text\":\"Means per day\"}},\"xaxis6\":{\"anchor\":\"y6\",\"domain\":[0.5,0.98],\"matches\":\"x\",\"showticklabels\":false},\"yaxis6\":{\"anchor\":\"x6\",\"domain\":[0.6866666666666665,0.9999999999999998],\"matches\":\"y5\",\"showticklabels\":false},\"annotations\":[{\"font\":{},\"showarrow\":false,\"text\":\"Schedule = Baseline\",\"x\":0.24,\"xanchor\":\"center\",\"xref\":\"paper\",\"y\":0.9999999999999998,\"yanchor\":\"bottom\",\"yref\":\"paper\"},{\"font\":{},\"showarrow\":false,\"text\":\"Schedule = Baseline + weekends\",\"x\":0.74,\"xanchor\":\"center\",\"xref\":\"paper\",\"y\":0.9999999999999998,\"yanchor\":\"bottom\",\"yref\":\"paper\"},{\"font\":{},\"showarrow\":false,\"text\":\"Measure = Lost slots\",\"textangle\":90,\"x\":0.98,\"xanchor\":\"left\",\"xref\":\"paper\",\"y\":0.15666666666666665,\"yanchor\":\"middle\",\"yref\":\"paper\"},{\"font\":{},\"showarrow\":false,\"text\":\"Measure = Utilisation\",\"textangle\":90,\"x\":0.98,\"xanchor\":\"left\",\"xref\":\"paper\",\"y\":0.4999999999999999,\"yanchor\":\"middle\",\"yref\":\"paper\"},{\"font\":{},\"showarrow\":false,\"text\":\"Measure = Throughput\",\"textangle\":90,\"x\":0.98,\"xanchor\":\"left\",\"xref\":\"paper\",\"y\":0.8433333333333332,\"yanchor\":\"middle\",\"yref\":\"paper\"}],\"legend\":{\"title\":{\"text\":\"scenarios\"},\"tracegroupgap\":0},\"margin\":{\"t\":60},\"barmode\":\"group\",\"height\":800,\"width\":1200},                        {\"responsive\": true}                    ).then(function(){\n",
       "                            \n",
       "var gd = document.getElementById('88159b9a-ad38-4e8d-b1a3-b22751779cc3');\n",
       "var x = new MutationObserver(function (mutations, observer) {{\n",
       "        var display = window.getComputedStyle(gd).display;\n",
       "        if (!display || display === 'none') {{\n",
       "            console.log([gd, 'removed!']);\n",
       "            Plotly.purge(gd);\n",
       "            observer.disconnect();\n",
       "        }}\n",
       "}});\n",
       "\n",
       "// Listen for the removal of the full notebook cells\n",
       "var notebookContainer = gd.closest('#notebook-container');\n",
       "if (notebookContainer) {{\n",
       "    x.observe(notebookContainer, {childList: true});\n",
       "}}\n",
       "\n",
       "// Listen for the clearing of the current output cell\n",
       "var outputEl = gd.closest('.output');\n",
       "if (outputEl) {{\n",
       "    x.observe(outputEl, {childList: true});\n",
       "}}\n",
       "\n",
       "                        })                };                });            </script>        </div>"
      ]
     },
     "metadata": {},
     "output_type": "display_data"
    }
   ],
   "source": [
    "fig = px.bar(means_output, x=means_output.Beds, \n",
    "             y=means_output['Means per day'], color=means_output.scenarios, \n",
    "             facet_row=means_output['Measure '], facet_col=means_output['Schedule '], \n",
    "             barmode='group', width=1200, height=800)\n",
    "fig.layout.yaxis.matches = 'y'\n",
    "fig.layout.yaxis2.matches = 'y'\n",
    "\n",
    "fig.layout.yaxis3.matches = 'y3'\n",
    "fig.layout.yaxis4.matches = 'y3'\n",
    "\n",
    "fig.layout.yaxis5.matches = 'y5'\n",
    "fig.layout.yaxis6.matches = 'y5'\n",
    "\n",
    "fig.show()\n",
    "\n",
    "fig.write_image('output/scenarios_paper_fig.png')"
   ]
  },
  {
   "cell_type": "code",
   "execution_count": null,
   "id": "47f6f1bc-f953-4d35-ac9b-f2af321f0d28",
   "metadata": {},
   "outputs": [],
   "source": []
  }
 ],
 "metadata": {
  "kernelspec": {
   "display_name": "Python 3 (ipykernel)",
   "language": "python",
   "name": "python3"
  },
  "language_info": {
   "codemirror_mode": {
    "name": "ipython",
    "version": 3
   },
   "file_extension": ".py",
   "mimetype": "text/x-python",
   "name": "python",
   "nbconvert_exporter": "python",
   "pygments_lexer": "ipython3",
   "version": "3.8.12"
  }
 },
 "nbformat": 4,
 "nbformat_minor": 5
}
