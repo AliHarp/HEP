{
 "cells": [
  {
   "cell_type": "code",
   "execution_count": 1,
   "id": "fda7ee1b-ef8a-40a2-9515-41a4f7223923",
   "metadata": {},
   "outputs": [],
   "source": [
    "import statistics\n",
    "import numpy as np\n",
    "import pandas as pd\n",
    "import matplotlib.pyplot as plt\n",
    "import math\n",
    "import itertools"
   ]
  },
  {
   "cell_type": "markdown",
   "id": "0708e708-4678-4b96-a7a6-2b1c7c6aefdc",
   "metadata": {},
   "source": [
    "## Lost slots calculations and plots\n",
    "\n",
    "Main sim script outputs - bed utilisation.  \n",
    "Add - lost theatre slots and total throughput"
   ]
  },
  {
   "cell_type": "code",
   "execution_count": 110,
   "id": "03919488-a515-4e78-bebb-33b1a52d3e2b",
   "metadata": {},
   "outputs": [
    {
     "name": "stdout",
     "output_type": "stream",
     "text": [
      "80500\n"
     ]
    }
   ],
   "source": [
    "number_of_runs = 100\n",
    "\n",
    "#read in dataframes and concatenate\n",
    "primary_pt_results = pd.read_csv('data/primary_patient_results.csv')\n",
    "revision_pt_results = pd.read_csv('data/revision_patient_results.csv')\n",
    "pt_results = pd.concat([primary_pt_results, revision_pt_results])\n",
    "print(len(pt_results))"
   ]
  },
  {
   "cell_type": "code",
   "execution_count": 111,
   "id": "e3b1b127-f477-4768-8e3f-47d8d312c189",
   "metadata": {},
   "outputs": [
    {
     "data": {
      "text/html": [
       "<div>\n",
       "<style scoped>\n",
       "    .dataframe tbody tr th:only-of-type {\n",
       "        vertical-align: middle;\n",
       "    }\n",
       "\n",
       "    .dataframe tbody tr th {\n",
       "        vertical-align: top;\n",
       "    }\n",
       "\n",
       "    .dataframe thead th {\n",
       "        text-align: right;\n",
       "    }\n",
       "</style>\n",
       "<table border=\"1\" class=\"dataframe\">\n",
       "  <thead>\n",
       "    <tr style=\"text-align: right;\">\n",
       "      <th></th>\n",
       "      <th>Unnamed: 0</th>\n",
       "      <th>Day</th>\n",
       "      <th>weekday</th>\n",
       "      <th>ID</th>\n",
       "      <th>arrival time</th>\n",
       "      <th>patient class</th>\n",
       "      <th>surgery type</th>\n",
       "      <th>lost slots</th>\n",
       "      <th>queue time</th>\n",
       "      <th>los</th>\n",
       "      <th>delayed discharge</th>\n",
       "      <th>depart</th>\n",
       "    </tr>\n",
       "  </thead>\n",
       "  <tbody>\n",
       "    <tr>\n",
       "      <th>19495</th>\n",
       "      <td>190</td>\n",
       "      <td>66</td>\n",
       "      <td>3</td>\n",
       "      <td>191</td>\n",
       "      <td>66</td>\n",
       "      <td>revision</td>\n",
       "      <td>r_hip</td>\n",
       "      <td>True</td>\n",
       "      <td>0.176415</td>\n",
       "      <td>0.0</td>\n",
       "      <td>False</td>\n",
       "      <td>66.176415</td>\n",
       "    </tr>\n",
       "    <tr>\n",
       "      <th>19496</th>\n",
       "      <td>191</td>\n",
       "      <td>67</td>\n",
       "      <td>4</td>\n",
       "      <td>192</td>\n",
       "      <td>67</td>\n",
       "      <td>revision</td>\n",
       "      <td>r_hip</td>\n",
       "      <td>True</td>\n",
       "      <td>0.215672</td>\n",
       "      <td>0.0</td>\n",
       "      <td>False</td>\n",
       "      <td>67.215672</td>\n",
       "    </tr>\n",
       "    <tr>\n",
       "      <th>19497</th>\n",
       "      <td>192</td>\n",
       "      <td>67</td>\n",
       "      <td>4</td>\n",
       "      <td>193</td>\n",
       "      <td>67</td>\n",
       "      <td>revision</td>\n",
       "      <td>r_hip</td>\n",
       "      <td>True</td>\n",
       "      <td>0.173746</td>\n",
       "      <td>0.0</td>\n",
       "      <td>False</td>\n",
       "      <td>67.173746</td>\n",
       "    </tr>\n",
       "    <tr>\n",
       "      <th>19498</th>\n",
       "      <td>193</td>\n",
       "      <td>67</td>\n",
       "      <td>4</td>\n",
       "      <td>194</td>\n",
       "      <td>67</td>\n",
       "      <td>revision</td>\n",
       "      <td>r_knee</td>\n",
       "      <td>True</td>\n",
       "      <td>0.036965</td>\n",
       "      <td>0.0</td>\n",
       "      <td>False</td>\n",
       "      <td>67.036965</td>\n",
       "    </tr>\n",
       "    <tr>\n",
       "      <th>19499</th>\n",
       "      <td>194</td>\n",
       "      <td>67</td>\n",
       "      <td>4</td>\n",
       "      <td>195</td>\n",
       "      <td>67</td>\n",
       "      <td>revision</td>\n",
       "      <td>r_knee</td>\n",
       "      <td>True</td>\n",
       "      <td>0.159541</td>\n",
       "      <td>0.0</td>\n",
       "      <td>False</td>\n",
       "      <td>67.159541</td>\n",
       "    </tr>\n",
       "  </tbody>\n",
       "</table>\n",
       "</div>"
      ],
      "text/plain": [
       "       Unnamed: 0  Day  weekday   ID  arrival time patient class surgery type  \\\n",
       "19495         190   66        3  191            66      revision        r_hip   \n",
       "19496         191   67        4  192            67      revision        r_hip   \n",
       "19497         192   67        4  193            67      revision        r_hip   \n",
       "19498         193   67        4  194            67      revision       r_knee   \n",
       "19499         194   67        4  195            67      revision       r_knee   \n",
       "\n",
       "       lost slots  queue time  los  delayed discharge     depart  \n",
       "19495        True    0.176415  0.0              False  66.176415  \n",
       "19496        True    0.215672  0.0              False  67.215672  \n",
       "19497        True    0.173746  0.0              False  67.173746  \n",
       "19498        True    0.036965  0.0              False  67.036965  \n",
       "19499        True    0.159541  0.0              False  67.159541  "
      ]
     },
     "execution_count": 111,
     "metadata": {},
     "output_type": "execute_result"
    }
   ],
   "source": [
    "pt_results.tail()"
   ]
  },
  {
   "cell_type": "code",
   "execution_count": 112,
   "id": "b5b9de8e-bd03-4205-8e2c-cfdcc122b378",
   "metadata": {},
   "outputs": [
    {
     "data": {
      "text/plain": [
       "primary     61000\n",
       "revision    19500\n",
       "Name: patient class, dtype: int64"
      ]
     },
     "execution_count": 112,
     "metadata": {},
     "output_type": "execute_result"
    }
   ],
   "source": [
    "#double check\n",
    "pt_results['patient class'].value_counts()"
   ]
  },
  {
   "cell_type": "code",
   "execution_count": 113,
   "id": "0a45a109-5714-4402-9fb0-2852ec7314ad",
   "metadata": {},
   "outputs": [
    {
     "name": "stdout",
     "output_type": "stream",
     "text": [
      "50\n"
     ]
    }
   ],
   "source": [
    "#summarise lost slots by day across runs\n",
    "lost_slots_df = pt_results[[\"Day\", \"lost slots\", \"weekday\"]]\n",
    "\n",
    "lost_slots_df = pd.DataFrame(lost_slots_df.groupby(['Day', 'weekday'])['lost slots'].sum().astype(int))\n",
    "lost_slots_df = lost_slots_df.assign(DayLostSlots = lambda x: (x['lost slots'] / number_of_runs))\n",
    "\n",
    "lost_slots_df = pd.DataFrame(lost_slots_df[\"DayLostSlots\"]).reset_index()\n",
    "print(len(lost_slots_df))"
   ]
  },
  {
   "cell_type": "code",
   "execution_count": 114,
   "id": "3002be06-201a-40fe-ac74-fc3462c8b9ea",
   "metadata": {},
   "outputs": [
    {
     "data": {
      "text/html": [
       "<div>\n",
       "<style scoped>\n",
       "    .dataframe tbody tr th:only-of-type {\n",
       "        vertical-align: middle;\n",
       "    }\n",
       "\n",
       "    .dataframe tbody tr th {\n",
       "        vertical-align: top;\n",
       "    }\n",
       "\n",
       "    .dataframe thead th {\n",
       "        text-align: right;\n",
       "    }\n",
       "</style>\n",
       "<table border=\"1\" class=\"dataframe\">\n",
       "  <thead>\n",
       "    <tr style=\"text-align: right;\">\n",
       "      <th></th>\n",
       "      <th>Day</th>\n",
       "      <th>weekday</th>\n",
       "      <th>DayLostSlots</th>\n",
       "    </tr>\n",
       "  </thead>\n",
       "  <tbody>\n",
       "    <tr>\n",
       "      <th>0</th>\n",
       "      <td>0</td>\n",
       "      <td>0</td>\n",
       "      <td>0.00</td>\n",
       "    </tr>\n",
       "    <tr>\n",
       "      <th>1</th>\n",
       "      <td>1</td>\n",
       "      <td>1</td>\n",
       "      <td>0.00</td>\n",
       "    </tr>\n",
       "    <tr>\n",
       "      <th>2</th>\n",
       "      <td>2</td>\n",
       "      <td>2</td>\n",
       "      <td>0.00</td>\n",
       "    </tr>\n",
       "    <tr>\n",
       "      <th>3</th>\n",
       "      <td>3</td>\n",
       "      <td>3</td>\n",
       "      <td>8.18</td>\n",
       "    </tr>\n",
       "    <tr>\n",
       "      <th>4</th>\n",
       "      <td>4</td>\n",
       "      <td>4</td>\n",
       "      <td>8.05</td>\n",
       "    </tr>\n",
       "    <tr>\n",
       "      <th>5</th>\n",
       "      <td>7</td>\n",
       "      <td>0</td>\n",
       "      <td>0.10</td>\n",
       "    </tr>\n",
       "    <tr>\n",
       "      <th>6</th>\n",
       "      <td>8</td>\n",
       "      <td>1</td>\n",
       "      <td>3.57</td>\n",
       "    </tr>\n",
       "    <tr>\n",
       "      <th>7</th>\n",
       "      <td>9</td>\n",
       "      <td>2</td>\n",
       "      <td>7.07</td>\n",
       "    </tr>\n",
       "    <tr>\n",
       "      <th>8</th>\n",
       "      <td>10</td>\n",
       "      <td>3</td>\n",
       "      <td>9.84</td>\n",
       "    </tr>\n",
       "    <tr>\n",
       "      <th>9</th>\n",
       "      <td>11</td>\n",
       "      <td>4</td>\n",
       "      <td>8.02</td>\n",
       "    </tr>\n",
       "  </tbody>\n",
       "</table>\n",
       "</div>"
      ],
      "text/plain": [
       "   Day  weekday  DayLostSlots\n",
       "0    0        0          0.00\n",
       "1    1        1          0.00\n",
       "2    2        2          0.00\n",
       "3    3        3          8.18\n",
       "4    4        4          8.05\n",
       "5    7        0          0.10\n",
       "6    8        1          3.57\n",
       "7    9        2          7.07\n",
       "8   10        3          9.84\n",
       "9   11        4          8.02"
      ]
     },
     "execution_count": 114,
     "metadata": {},
     "output_type": "execute_result"
    }
   ],
   "source": [
    "#Day and weekdays with 0-arrivals are lost (ie 5 and 6 = sat and sun)\n",
    "lost_slots_df.head(10)"
   ]
  },
  {
   "cell_type": "code",
   "execution_count": 115,
   "id": "2cb3ec6c-1a39-4f5f-9575-ccf26bcc834a",
   "metadata": {},
   "outputs": [],
   "source": [
    "#0-arrival days excluded from df - add to Days sequence and fill lost slots value with 0 lost slots\n",
    "# use re-index as dataframe length increasing. Fill values in columns with 0.\n",
    "\n",
    "lost_slots_df = (lost_slots_df.set_index('Day')\n",
    " .reindex(range(lost_slots_df.Day.iat[0],lost_slots_df.Day.iat[-1]+1), fill_value=0)\n",
    " .reset_index())"
   ]
  },
  {
   "cell_type": "code",
   "execution_count": 116,
   "id": "f7d7c177-35aa-4f99-b348-d420f4d074a6",
   "metadata": {},
   "outputs": [],
   "source": [
    "#change 0 weekdays into correct weekday integer\n",
    "\n",
    "#need days of week seq and length of total range > length of dataframe\n",
    "shortseq = np.arange(len(range(0,7)))\n",
    "length = math.ceil(len(lost_slots_df) / 7)\n",
    "\n",
    "#create total sequence and flatten array list into list of elements\n",
    "sequence = ([np.tile((shortseq),length)])\n",
    "flat_seq = list(itertools.chain(*sequence))\n",
    "\n",
    "#truncate to correct length and save to column\n",
    "sequence = flat_seq[:len(lost_slots_df)]\n",
    "lost_slots_df['weekday'] = sequence\n"
   ]
  },
  {
   "cell_type": "code",
   "execution_count": 117,
   "id": "7c4fd7ac-5df6-4237-b230-7462d6f3b72c",
   "metadata": {},
   "outputs": [],
   "source": [
    "#save to csv - note warm-up period included in results\n",
    "\n",
    "lost_slots_df.to_csv('data_summaries/Lost_slots_results_per_day.csv')"
   ]
  },
  {
   "cell_type": "code",
   "execution_count": 118,
   "id": "5cbc3832-1410-424c-b2c9-9eee94ed1de9",
   "metadata": {
    "tags": []
   },
   "outputs": [
    {
     "data": {
      "text/plain": [
       "Text(0.5, 1.0, 'Lost theatre slots across model runtime')"
      ]
     },
     "execution_count": 118,
     "metadata": {},
     "output_type": "execute_result"
    },
    {
     "data": {
      "image/png": "[encoded data removed]",
      "text/plain": [
       "<Figure size 2200x300 with 1 Axes>"
      ]
     },
     "metadata": {},
     "output_type": "display_data"
    }
   ],
   "source": [
    "# plot per day - need to remove warm-up period\n",
    "fig = plt.figure(figsize=(22,3))\n",
    "ax = fig.add_subplot()\n",
    "\n",
    "lost_slots_plot = ax.plot(lost_slots_df['DayLostSlots'])\n",
    "ax.set_title('Lost theatre slots across model runtime')"
   ]
  },
  {
   "cell_type": "code",
   "execution_count": 119,
   "id": "a0031071-17c3-4d80-879e-9ec891644d99",
   "metadata": {},
   "outputs": [
    {
     "data": {
      "text/html": [
       "<div>\n",
       "<style scoped>\n",
       "    .dataframe tbody tr th:only-of-type {\n",
       "        vertical-align: middle;\n",
       "    }\n",
       "\n",
       "    .dataframe tbody tr th {\n",
       "        vertical-align: top;\n",
       "    }\n",
       "\n",
       "    .dataframe thead th {\n",
       "        text-align: right;\n",
       "    }\n",
       "</style>\n",
       "<table border=\"1\" class=\"dataframe\">\n",
       "  <thead>\n",
       "    <tr style=\"text-align: right;\">\n",
       "      <th></th>\n",
       "      <th>Day</th>\n",
       "      <th>DayLostSlots</th>\n",
       "    </tr>\n",
       "    <tr>\n",
       "      <th>weekday</th>\n",
       "      <th></th>\n",
       "      <th></th>\n",
       "    </tr>\n",
       "  </thead>\n",
       "  <tbody>\n",
       "    <tr>\n",
       "      <th>0</th>\n",
       "      <td>31.5</td>\n",
       "      <td>0.187</td>\n",
       "    </tr>\n",
       "    <tr>\n",
       "      <th>1</th>\n",
       "      <td>32.5</td>\n",
       "      <td>5.060</td>\n",
       "    </tr>\n",
       "    <tr>\n",
       "      <th>2</th>\n",
       "      <td>33.5</td>\n",
       "      <td>8.536</td>\n",
       "    </tr>\n",
       "    <tr>\n",
       "      <th>3</th>\n",
       "      <td>34.5</td>\n",
       "      <td>9.725</td>\n",
       "    </tr>\n",
       "    <tr>\n",
       "      <th>4</th>\n",
       "      <td>35.5</td>\n",
       "      <td>8.769</td>\n",
       "    </tr>\n",
       "    <tr>\n",
       "      <th>5</th>\n",
       "      <td>33.0</td>\n",
       "      <td>0.000</td>\n",
       "    </tr>\n",
       "    <tr>\n",
       "      <th>6</th>\n",
       "      <td>34.0</td>\n",
       "      <td>0.000</td>\n",
       "    </tr>\n",
       "  </tbody>\n",
       "</table>\n",
       "</div>"
      ],
      "text/plain": [
       "          Day  DayLostSlots\n",
       "weekday                    \n",
       "0        31.5         0.187\n",
       "1        32.5         5.060\n",
       "2        33.5         8.536\n",
       "3        34.5         9.725\n",
       "4        35.5         8.769\n",
       "5        33.0         0.000\n",
       "6        34.0         0.000"
      ]
     },
     "execution_count": 119,
     "metadata": {},
     "output_type": "execute_result"
    }
   ],
   "source": [
    "# plot daily summary of lost slots\n",
    "lost_slots_wk_plot = lost_slots_df.groupby('weekday').mean()\n",
    "lost_slots_wk_plot.reset_index()\n",
    "lost_slots_wk_plot"
   ]
  },
  {
   "cell_type": "code",
   "execution_count": 120,
   "id": "22c22b21-47d3-4b28-870f-04cf895e8530",
   "metadata": {},
   "outputs": [],
   "source": [
    "#lost_slots_wk_plot = lost_slots_wk_plot['DayLostSlots']#, 'DayLostSlots']]"
   ]
  },
  {
   "cell_type": "code",
   "execution_count": 121,
   "id": "9947f5d7-fdfe-4e6f-9bbd-70fc79611a22",
   "metadata": {
    "tags": []
   },
   "outputs": [
    {
     "data": {
      "text/plain": [
       "Text(0.5, 1.0, 'Lost slots per day of week')"
      ]
     },
     "execution_count": 121,
     "metadata": {},
     "output_type": "execute_result"
    },
    {
     "data": {
      "image/png": "[encoded data removed]",
      "text/plain": [
       "<Figure size 800x400 with 1 Axes>"
      ]
     },
     "metadata": {},
     "output_type": "display_data"
    }
   ],
   "source": [
    "values = lost_slots_wk_plot['DayLostSlots']\n",
    "names = ['Monday', 'Tuesday', 'Wednesday', 'Thursday', 'Friday', 'Saturday', 'Sunday']\n",
    "\n",
    "fig = plt.figure(figsize=(8,4))\n",
    "ax = fig.add_subplot()\n",
    "lost_slots_df = ax.bar(names, values)\n",
    "#m_day_wd_plot = ax.plot(m_day_results_wd['bed_utilisation'] )\n",
    "ax.set_title('Lost slots per day of week')\n",
    "#plt.savefig('Bed Utilisation example output')"
   ]
  },
  {
   "cell_type": "code",
   "execution_count": null,
   "id": "1ac16caa-de33-45e6-8ea9-0da50ae8a35e",
   "metadata": {},
   "outputs": [],
   "source": []
  }
 ],
 "metadata": {
  "kernelspec": {
   "display_name": "Python 3 (ipykernel)",
   "language": "python",
   "name": "python3"
  },
  "language_info": {
   "codemirror_mode": {
    "name": "ipython",
    "version": 3
   },
   "file_extension": ".py",
   "mimetype": "text/x-python",
   "name": "python",
   "nbconvert_exporter": "python",
   "pygments_lexer": "ipython3",
   "version": "3.8.12"
  }
 },
 "nbformat": 4,
 "nbformat_minor": 5
}
